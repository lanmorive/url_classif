{
 "cells": [
  {
   "cell_type": "code",
   "execution_count": 1,
   "id": "93ccdcea",
   "metadata": {},
   "outputs": [
    {
     "name": "stderr",
     "output_type": "stream",
     "text": [
      "[nltk_data] Downloading package stopwords to\n",
      "[nltk_data]     C:\\Users\\lanmo\\AppData\\Roaming\\nltk_data...\n",
      "[nltk_data]   Package stopwords is already up-to-date!\n"
     ]
    },
    {
     "data": {
      "text/plain": [
       "True"
      ]
     },
     "execution_count": 1,
     "metadata": {},
     "output_type": "execute_result"
    }
   ],
   "source": [
    "import pandas as pd\n",
    "import torch\n",
    "import tldextract\n",
    "from nltk.corpus import stopwords\n",
    "import nltk\n",
    "import re\n",
    "import numpy as np\n",
    "from gensim.models import FastText\n",
    "from sklearn.metrics import f1_score\n",
    "from sklearn.metrics import roc_auc_score\n",
    "from sklearn.metrics import confusion_matrix\n",
    "import string\n",
    "import random\n",
    "import warnings\n",
    "import optuna\n",
    "warnings.filterwarnings('ignore')\n",
    "random.seed(123)\n",
    "nltk.download('stopwords')"
   ]
  },
  {
   "cell_type": "code",
   "execution_count": 2,
   "id": "692ab932",
   "metadata": {},
   "outputs": [],
   "source": [
    "stop_words_en = set(stopwords.words(\"english\"))\n",
    "stop_words_ru = set(stopwords.words(\"russian\"))\n",
    "stop_words = stop_words_en | stop_words_ru"
   ]
  },
  {
   "cell_type": "code",
   "execution_count": 3,
   "id": "d22f4cae",
   "metadata": {},
   "outputs": [],
   "source": [
    "train = pd.read_csv(r'train_data.csv',index_col = 0)\n",
    "test = pd.read_csv(r'test_data.csv',index_col = 0)"
   ]
  },
  {
   "cell_type": "code",
   "execution_count": 4,
   "id": "faf5ce4d",
   "metadata": {},
   "outputs": [
    {
     "data": {
      "text/plain": [
       "url      0\n",
       "title    1\n",
       "label    0\n",
       "dtype: int64"
      ]
     },
     "execution_count": 4,
     "metadata": {},
     "output_type": "execute_result"
    }
   ],
   "source": [
    "train.isna().sum()"
   ]
  },
  {
   "cell_type": "code",
   "execution_count": 5,
   "id": "70e77a12",
   "metadata": {},
   "outputs": [
    {
     "data": {
      "text/plain": [
       "url      0\n",
       "title    0\n",
       "dtype: int64"
      ]
     },
     "execution_count": 5,
     "metadata": {},
     "output_type": "execute_result"
    }
   ],
   "source": [
    "test.isna().sum()"
   ]
  },
  {
   "cell_type": "code",
   "execution_count": 6,
   "id": "135ef534",
   "metadata": {},
   "outputs": [
    {
     "data": {
      "text/html": [
       "<div>\n",
       "<style scoped>\n",
       "    .dataframe tbody tr th:only-of-type {\n",
       "        vertical-align: middle;\n",
       "    }\n",
       "\n",
       "    .dataframe tbody tr th {\n",
       "        vertical-align: top;\n",
       "    }\n",
       "\n",
       "    .dataframe thead th {\n",
       "        text-align: right;\n",
       "    }\n",
       "</style>\n",
       "<table border=\"1\" class=\"dataframe\">\n",
       "  <thead>\n",
       "    <tr style=\"text-align: right;\">\n",
       "      <th></th>\n",
       "      <th>url</th>\n",
       "      <th>title</th>\n",
       "      <th>label</th>\n",
       "    </tr>\n",
       "    <tr>\n",
       "      <th>ID</th>\n",
       "      <th></th>\n",
       "      <th></th>\n",
       "      <th></th>\n",
       "    </tr>\n",
       "  </thead>\n",
       "  <tbody>\n",
       "    <tr>\n",
       "      <th>78497</th>\n",
       "      <td>jpg-1.com</td>\n",
       "      <td>NaN</td>\n",
       "      <td>0</td>\n",
       "    </tr>\n",
       "  </tbody>\n",
       "</table>\n",
       "</div>"
      ],
      "text/plain": [
       "             url title  label\n",
       "ID                           \n",
       "78497  jpg-1.com   NaN      0"
      ]
     },
     "execution_count": 6,
     "metadata": {},
     "output_type": "execute_result"
    }
   ],
   "source": [
    "train[train['title'].isna()]"
   ]
  },
  {
   "cell_type": "code",
   "execution_count": 7,
   "id": "510702f4",
   "metadata": {},
   "outputs": [],
   "source": [
    "train.dropna(inplace = True)"
   ]
  },
  {
   "cell_type": "markdown",
   "id": "652dde84",
   "metadata": {},
   "source": [
    "# Чекним дизбаланс классов"
   ]
  },
  {
   "cell_type": "code",
   "execution_count": 8,
   "id": "26b544b6",
   "metadata": {},
   "outputs": [
    {
     "data": {
      "text/plain": [
       "label\n",
       "0    87.646702\n",
       "1    12.353298\n",
       "Name: count, dtype: float64"
      ]
     },
     "execution_count": 8,
     "metadata": {},
     "output_type": "execute_result"
    }
   ],
   "source": [
    "train['label'].value_counts()/train.shape[0] * 100"
   ]
  },
  {
   "cell_type": "markdown",
   "id": "100c03a2",
   "metadata": {},
   "source": [
    "Есть большой дизбаланс классов и с этим нужно будет что-то делать"
   ]
  },
  {
   "cell_type": "markdown",
   "id": "faba8e33",
   "metadata": {},
   "source": [
    "# Обработаем данные\n",
    "## Буду отдельно обрабатывать url и title"
   ]
  },
  {
   "cell_type": "code",
   "execution_count": 9,
   "id": "46ed81e3",
   "metadata": {},
   "outputs": [],
   "source": [
    "def get_clean_url(text):\n",
    "    domain = tldextract.extract(text).domain\n",
    "    if domain == '':\n",
    "        domain = 'domains'\n",
    "    return domain"
   ]
  },
  {
   "cell_type": "code",
   "execution_count": 10,
   "id": "38732fea",
   "metadata": {},
   "outputs": [],
   "source": [
    "def remove_punctuation(text):\n",
    "    translation_table = str.maketrans(string.punctuation, ' ' * len(string.punctuation))\n",
    "    cleaned_text = text.translate(translation_table)\n",
    "    return cleaned_text"
   ]
  },
  {
   "cell_type": "code",
   "execution_count": 11,
   "id": "6b727561",
   "metadata": {},
   "outputs": [],
   "source": [
    "train['url_clean'] = train['url'].apply(lambda x: remove_punctuation(get_clean_url(x)))\n",
    "test['url_clean'] = test['url'].apply(lambda x: remove_punctuation(get_clean_url(x)))"
   ]
  },
  {
   "cell_type": "code",
   "execution_count": 12,
   "id": "165e3b58",
   "metadata": {},
   "outputs": [],
   "source": [
    "train.drop(['url'],axis = 1,inplace = True)\n",
    "test.drop(['url'],axis = 1,inplace = True)"
   ]
  },
  {
   "cell_type": "code",
   "execution_count": 13,
   "id": "52a25f7a",
   "metadata": {},
   "outputs": [
    {
     "data": {
      "text/html": [
       "<div>\n",
       "<style scoped>\n",
       "    .dataframe tbody tr th:only-of-type {\n",
       "        vertical-align: middle;\n",
       "    }\n",
       "\n",
       "    .dataframe tbody tr th {\n",
       "        vertical-align: top;\n",
       "    }\n",
       "\n",
       "    .dataframe thead th {\n",
       "        text-align: right;\n",
       "    }\n",
       "</style>\n",
       "<table border=\"1\" class=\"dataframe\">\n",
       "  <thead>\n",
       "    <tr style=\"text-align: right;\">\n",
       "      <th></th>\n",
       "      <th>title</th>\n",
       "      <th>label</th>\n",
       "      <th>url_clean</th>\n",
       "    </tr>\n",
       "    <tr>\n",
       "      <th>ID</th>\n",
       "      <th></th>\n",
       "      <th></th>\n",
       "      <th></th>\n",
       "    </tr>\n",
       "  </thead>\n",
       "  <tbody>\n",
       "    <tr>\n",
       "      <th>0</th>\n",
       "      <td>Экс-министр экономики Молдовы - главе МИДЭИ, ц...</td>\n",
       "      <td>0</td>\n",
       "      <td>kp</td>\n",
       "    </tr>\n",
       "    <tr>\n",
       "      <th>1</th>\n",
       "      <td>Эта песня стала известна многим телезрителям б...</td>\n",
       "      <td>0</td>\n",
       "      <td>kp</td>\n",
       "    </tr>\n",
       "    <tr>\n",
       "      <th>2</th>\n",
       "      <td>Банши 4 сезон 2 серия Бремя красоты смотреть о...</td>\n",
       "      <td>0</td>\n",
       "      <td>fanserials</td>\n",
       "    </tr>\n",
       "    <tr>\n",
       "      <th>3</th>\n",
       "      <td>Не Беси Меня Картинки</td>\n",
       "      <td>0</td>\n",
       "      <td>spb</td>\n",
       "    </tr>\n",
       "    <tr>\n",
       "      <th>4</th>\n",
       "      <td>В Новомосковске сыграют следж-хоккеисты алекси...</td>\n",
       "      <td>0</td>\n",
       "      <td>tula sport</td>\n",
       "    </tr>\n",
       "    <tr>\n",
       "      <th>5</th>\n",
       "      <td>Салат: корейская морковь + копченая курица + к...</td>\n",
       "      <td>0</td>\n",
       "      <td>beregifiguru</td>\n",
       "    </tr>\n",
       "    <tr>\n",
       "      <th>6</th>\n",
       "      <td>Угловой пневмогайковерт FUBAG RWC 105 1/2\" 100...</td>\n",
       "      <td>0</td>\n",
       "      <td>vseinstrumenti</td>\n",
       "    </tr>\n",
       "  </tbody>\n",
       "</table>\n",
       "</div>"
      ],
      "text/plain": [
       "                                                title  label       url_clean\n",
       "ID                                                                          \n",
       "0   Экс-министр экономики Молдовы - главе МИДЭИ, ц...      0              kp\n",
       "1   Эта песня стала известна многим телезрителям б...      0              kp\n",
       "2   Банши 4 сезон 2 серия Бремя красоты смотреть о...      0      fanserials\n",
       "3                               Не Беси Меня Картинки      0             spb\n",
       "4   В Новомосковске сыграют следж-хоккеисты алекси...      0      tula sport\n",
       "5   Салат: корейская морковь + копченая курица + к...      0    beregifiguru\n",
       "6   Угловой пневмогайковерт FUBAG RWC 105 1/2\" 100...      0  vseinstrumenti"
      ]
     },
     "execution_count": 13,
     "metadata": {},
     "output_type": "execute_result"
    }
   ],
   "source": [
    "train.head(7)"
   ]
  },
  {
   "cell_type": "markdown",
   "id": "fffd8666",
   "metadata": {},
   "source": [
    "# Попробую предсказать при помощи url_clean"
   ]
  },
  {
   "cell_type": "code",
   "execution_count": 14,
   "id": "fb088d3e",
   "metadata": {},
   "outputs": [],
   "source": [
    "full = pd.concat([train,test])"
   ]
  },
  {
   "cell_type": "code",
   "execution_count": 15,
   "id": "93279f89",
   "metadata": {},
   "outputs": [],
   "source": [
    "train_for_fast = full[['url_clean','label']]"
   ]
  },
  {
   "cell_type": "code",
   "execution_count": 16,
   "id": "762683b5",
   "metadata": {},
   "outputs": [],
   "source": [
    "from gensim.models import FastText"
   ]
  },
  {
   "cell_type": "code",
   "execution_count": 17,
   "id": "87fc89ab",
   "metadata": {},
   "outputs": [],
   "source": [
    "sentenses = train_for_fast['url_clean'].apply(lambda x: x.split()).to_list()"
   ]
  },
  {
   "cell_type": "code",
   "execution_count": 18,
   "id": "cf0bc7a6",
   "metadata": {},
   "outputs": [],
   "source": [
    "model = FastText(sentenses,vector_size=150, window=1, min_count=1, epochs=20)"
   ]
  },
  {
   "cell_type": "code",
   "execution_count": 19,
   "id": "c6419419",
   "metadata": {},
   "outputs": [
    {
     "data": {
      "text/plain": [
       "[('porndoporn', 0.9977785348892212),\n",
       " ('porncorn', 0.9972577691078186),\n",
       " ('bdsmporn', 0.997223973274231),\n",
       " ('upporn', 0.9971194267272949),\n",
       " ('myporn', 0.9970510005950928),\n",
       " ('porndorn', 0.9970188736915588),\n",
       " ('nfporn', 0.9969059824943542),\n",
       " ('mdhporn', 0.9967306852340698),\n",
       " ('fhdporn', 0.996714174747467),\n",
       " ('k2porn', 0.9967005848884583)]"
      ]
     },
     "execution_count": 19,
     "metadata": {},
     "output_type": "execute_result"
    }
   ],
   "source": [
    "model.wv.most_similar('porn',topn=10)"
   ]
  },
  {
   "cell_type": "code",
   "execution_count": 20,
   "id": "7a003287",
   "metadata": {},
   "outputs": [],
   "source": [
    "def sentence_to_vector(sentence, model):\n",
    "    words = sentence.split()\n",
    "    word_vectors = [model.wv[word] for word in words if word in model.wv]\n",
    "    if len(word_vectors) > 0:\n",
    "        return np.mean(word_vectors, axis=0)\n",
    "    else:\n",
    "        return np.zeros(model.vector_size)"
   ]
  },
  {
   "cell_type": "code",
   "execution_count": 21,
   "id": "e1ef496e",
   "metadata": {},
   "outputs": [],
   "source": [
    "train_for_fast.dropna(inplace = True)"
   ]
  },
  {
   "cell_type": "code",
   "execution_count": 22,
   "id": "ff985e1a",
   "metadata": {},
   "outputs": [],
   "source": [
    "train_for_fast.loc[:, 'vector'] = train_for_fast['url_clean'].apply(lambda x: sentence_to_vector(x, model))"
   ]
  },
  {
   "cell_type": "code",
   "execution_count": 23,
   "id": "0c1feef2",
   "metadata": {},
   "outputs": [],
   "source": [
    "X = np.vstack(train_for_fast['vector'].values)\n",
    "y = train_for_fast['label']"
   ]
  },
  {
   "cell_type": "code",
   "execution_count": 24,
   "id": "0d9e0493",
   "metadata": {},
   "outputs": [],
   "source": [
    "from sklearn.model_selection import train_test_split"
   ]
  },
  {
   "cell_type": "code",
   "execution_count": 25,
   "id": "5523e2b2",
   "metadata": {},
   "outputs": [],
   "source": [
    "X_train,X_test,y_train,y_test = train_test_split(X,y,stratify=y,test_size=0.2,shuffle=True)"
   ]
  },
  {
   "cell_type": "code",
   "execution_count": 26,
   "id": "1d50e1dc",
   "metadata": {},
   "outputs": [],
   "source": [
    "from sklearn.linear_model import LogisticRegression\n",
    "from sklearn.ensemble import RandomForestClassifier"
   ]
  },
  {
   "cell_type": "code",
   "execution_count": 27,
   "id": "ff834ca5",
   "metadata": {},
   "outputs": [],
   "source": [
    "lin = RandomForestClassifier(n_estimators = 150,max_depth = 40, n_jobs = -1)"
   ]
  },
  {
   "cell_type": "code",
   "execution_count": 28,
   "id": "1a31783f",
   "metadata": {},
   "outputs": [
    {
     "data": {
      "text/html": [
       "<style>#sk-container-id-1 {color: black;background-color: white;}#sk-container-id-1 pre{padding: 0;}#sk-container-id-1 div.sk-toggleable {background-color: white;}#sk-container-id-1 label.sk-toggleable__label {cursor: pointer;display: block;width: 100%;margin-bottom: 0;padding: 0.3em;box-sizing: border-box;text-align: center;}#sk-container-id-1 label.sk-toggleable__label-arrow:before {content: \"▸\";float: left;margin-right: 0.25em;color: #696969;}#sk-container-id-1 label.sk-toggleable__label-arrow:hover:before {color: black;}#sk-container-id-1 div.sk-estimator:hover label.sk-toggleable__label-arrow:before {color: black;}#sk-container-id-1 div.sk-toggleable__content {max-height: 0;max-width: 0;overflow: hidden;text-align: left;background-color: #f0f8ff;}#sk-container-id-1 div.sk-toggleable__content pre {margin: 0.2em;color: black;border-radius: 0.25em;background-color: #f0f8ff;}#sk-container-id-1 input.sk-toggleable__control:checked~div.sk-toggleable__content {max-height: 200px;max-width: 100%;overflow: auto;}#sk-container-id-1 input.sk-toggleable__control:checked~label.sk-toggleable__label-arrow:before {content: \"▾\";}#sk-container-id-1 div.sk-estimator input.sk-toggleable__control:checked~label.sk-toggleable__label {background-color: #d4ebff;}#sk-container-id-1 div.sk-label input.sk-toggleable__control:checked~label.sk-toggleable__label {background-color: #d4ebff;}#sk-container-id-1 input.sk-hidden--visually {border: 0;clip: rect(1px 1px 1px 1px);clip: rect(1px, 1px, 1px, 1px);height: 1px;margin: -1px;overflow: hidden;padding: 0;position: absolute;width: 1px;}#sk-container-id-1 div.sk-estimator {font-family: monospace;background-color: #f0f8ff;border: 1px dotted black;border-radius: 0.25em;box-sizing: border-box;margin-bottom: 0.5em;}#sk-container-id-1 div.sk-estimator:hover {background-color: #d4ebff;}#sk-container-id-1 div.sk-parallel-item::after {content: \"\";width: 100%;border-bottom: 1px solid gray;flex-grow: 1;}#sk-container-id-1 div.sk-label:hover label.sk-toggleable__label {background-color: #d4ebff;}#sk-container-id-1 div.sk-serial::before {content: \"\";position: absolute;border-left: 1px solid gray;box-sizing: border-box;top: 0;bottom: 0;left: 50%;z-index: 0;}#sk-container-id-1 div.sk-serial {display: flex;flex-direction: column;align-items: center;background-color: white;padding-right: 0.2em;padding-left: 0.2em;position: relative;}#sk-container-id-1 div.sk-item {position: relative;z-index: 1;}#sk-container-id-1 div.sk-parallel {display: flex;align-items: stretch;justify-content: center;background-color: white;position: relative;}#sk-container-id-1 div.sk-item::before, #sk-container-id-1 div.sk-parallel-item::before {content: \"\";position: absolute;border-left: 1px solid gray;box-sizing: border-box;top: 0;bottom: 0;left: 50%;z-index: -1;}#sk-container-id-1 div.sk-parallel-item {display: flex;flex-direction: column;z-index: 1;position: relative;background-color: white;}#sk-container-id-1 div.sk-parallel-item:first-child::after {align-self: flex-end;width: 50%;}#sk-container-id-1 div.sk-parallel-item:last-child::after {align-self: flex-start;width: 50%;}#sk-container-id-1 div.sk-parallel-item:only-child::after {width: 0;}#sk-container-id-1 div.sk-dashed-wrapped {border: 1px dashed gray;margin: 0 0.4em 0.5em 0.4em;box-sizing: border-box;padding-bottom: 0.4em;background-color: white;}#sk-container-id-1 div.sk-label label {font-family: monospace;font-weight: bold;display: inline-block;line-height: 1.2em;}#sk-container-id-1 div.sk-label-container {text-align: center;}#sk-container-id-1 div.sk-container {/* jupyter's `normalize.less` sets `[hidden] { display: none; }` but bootstrap.min.css set `[hidden] { display: none !important; }` so we also need the `!important` here to be able to override the default hidden behavior on the sphinx rendered scikit-learn.org. See: https://github.com/scikit-learn/scikit-learn/issues/21755 */display: inline-block !important;position: relative;}#sk-container-id-1 div.sk-text-repr-fallback {display: none;}</style><div id=\"sk-container-id-1\" class=\"sk-top-container\"><div class=\"sk-text-repr-fallback\"><pre>RandomForestClassifier(max_depth=40, n_estimators=150, n_jobs=-1)</pre><b>In a Jupyter environment, please rerun this cell to show the HTML representation or trust the notebook. <br />On GitHub, the HTML representation is unable to render, please try loading this page with nbviewer.org.</b></div><div class=\"sk-container\" hidden><div class=\"sk-item\"><div class=\"sk-estimator sk-toggleable\"><input class=\"sk-toggleable__control sk-hidden--visually\" id=\"sk-estimator-id-1\" type=\"checkbox\" checked><label for=\"sk-estimator-id-1\" class=\"sk-toggleable__label sk-toggleable__label-arrow\">RandomForestClassifier</label><div class=\"sk-toggleable__content\"><pre>RandomForestClassifier(max_depth=40, n_estimators=150, n_jobs=-1)</pre></div></div></div></div></div>"
      ],
      "text/plain": [
       "RandomForestClassifier(max_depth=40, n_estimators=150, n_jobs=-1)"
      ]
     },
     "execution_count": 28,
     "metadata": {},
     "output_type": "execute_result"
    }
   ],
   "source": [
    "lin.fit(X_train,y_train)"
   ]
  },
  {
   "cell_type": "code",
   "execution_count": 29,
   "id": "c996b323",
   "metadata": {},
   "outputs": [],
   "source": [
    "y_pred = lin.predict(X_test)"
   ]
  },
  {
   "cell_type": "code",
   "execution_count": 30,
   "id": "a9bd840a",
   "metadata": {},
   "outputs": [
    {
     "name": "stdout",
     "output_type": "stream",
     "text": [
      "f1: 0.9306899781454885, roc_auc = 0.9441284426266319\n"
     ]
    }
   ],
   "source": [
    "print(f'f1: { f1_score(y_test,y_pred)}, roc_auc = {roc_auc_score(y_test,y_pred)}' )"
   ]
  },
  {
   "cell_type": "code",
   "execution_count": 31,
   "id": "b279b0aa",
   "metadata": {},
   "outputs": [
    {
     "name": "stdout",
     "output_type": "stream",
     "text": [
      "f1: 0.9294464258024501\n"
     ]
    }
   ],
   "source": [
    "y_pred =(lin.predict_proba(X_test)[:,1] > 0.42).astype(int)\n",
    "print(f'f1: { f1_score(y_test,y_pred)}')"
   ]
  },
  {
   "cell_type": "code",
   "execution_count": 32,
   "id": "3544723f",
   "metadata": {},
   "outputs": [
    {
     "data": {
      "image/png": "[encoded data removed]",
      "text/plain": [
       "<Figure size 640x480 with 2 Axes>"
      ]
     },
     "metadata": {},
     "output_type": "display_data"
    }
   ],
   "source": [
    "import seaborn as sns\n",
    "import matplotlib.pyplot as plt\n",
    "sns.heatmap(confusion_matrix(y_test, y_pred), annot=True, fmt='d', cmap='Blues', xticklabels=['0', '1'], yticklabels=['0', '1'])\n",
    "plt.xlabel('Предсказанный класс')\n",
    "plt.ylabel('Реальный класс')\n",
    "plt.title('Матрица ошибок')\n",
    "plt.show()"
   ]
  },
  {
   "cell_type": "code",
   "execution_count": 33,
   "id": "45cc448e",
   "metadata": {},
   "outputs": [
    {
     "name": "stderr",
     "output_type": "stream",
     "text": [
      "[I 2024-12-18 12:50:01,403] A new study created in memory with name: my_first_study\n"
     ]
    }
   ],
   "source": [
    "study = optuna.create_study(study_name=\"my_first_study\", direction=\"maximize\")"
   ]
  },
  {
   "cell_type": "code",
   "execution_count": 98,
   "id": "238db131",
   "metadata": {},
   "outputs": [
    {
     "name": "stderr",
     "output_type": "stream",
     "text": [
      "[I 2024-12-18 00:04:35,532] Trial 18 finished with value: 0.9327940261356565 and parameters: {'alpha': 4.885920852053694e-07, 'n_estimators': 50, 'max_depth': 38, 'random_number': 0.4605177906544379}. Best is trial 14 with value: 0.9341760443964853.\n",
      "[I 2024-12-18 00:04:53,948] Trial 19 finished with value: 0.9304511278195489 and parameters: {'alpha': 9.71177416601627e-09, 'n_estimators': 60, 'max_depth': 43, 'random_number': 0.55754864272097}. Best is trial 14 with value: 0.9341760443964853.\n",
      "[I 2024-12-18 00:05:09,406] Trial 20 finished with value: 0.9114566804189147 and parameters: {'alpha': 3.377966491864582e-06, 'n_estimators': 70, 'max_depth': 18, 'random_number': 0.37457235271836475}. Best is trial 14 with value: 0.9341760443964853.\n",
      "[I 2024-12-18 00:05:26,191] Trial 21 finished with value: 0.9126182459515793 and parameters: {'alpha': 8.749851542333608e-08, 'n_estimators': 60, 'max_depth': 34, 'random_number': 0.7014884162018737}. Best is trial 14 with value: 0.9341760443964853.\n",
      "[I 2024-12-18 00:05:40,658] Trial 22 finished with value: 0.8885229705252758 and parameters: {'alpha': 0.008830502298787067, 'n_estimators': 50, 'max_depth': 44, 'random_number': 0.8703654775505811}. Best is trial 14 with value: 0.9341760443964853.\n",
      "[I 2024-12-18 00:05:59,585] Trial 23 finished with value: 0.9140740740740741 and parameters: {'alpha': 1.855115914295523e-09, 'n_estimators': 70, 'max_depth': 50, 'random_number': 0.23593591577386064}. Best is trial 14 with value: 0.9341760443964853.\n",
      "[I 2024-12-18 00:06:17,295] Trial 24 finished with value: 0.8878673452635035 and parameters: {'alpha': 1.661855331948969e-05, 'n_estimators': 80, 'max_depth': 18, 'random_number': 0.5807253875134832}. Best is trial 14 with value: 0.9341760443964853.\n",
      "[I 2024-12-18 00:06:31,886] Trial 25 finished with value: 0.9334986823748256 and parameters: {'alpha': 5.168301039376263e-07, 'n_estimators': 50, 'max_depth': 38, 'random_number': 0.42665094659785013}. Best is trial 14 with value: 0.9341760443964853.\n",
      "[I 2024-12-18 00:06:48,623] Trial 26 finished with value: 0.9328578074120019 and parameters: {'alpha': 1.9192548362692723e-07, 'n_estimators': 60, 'max_depth': 45, 'random_number': 0.4288525018822073}. Best is trial 14 with value: 0.9341760443964853.\n",
      "[I 2024-12-18 00:07:03,166] Trial 27 finished with value: 0.9314169660990471 and parameters: {'alpha': 2.6798320060852852e-06, 'n_estimators': 50, 'max_depth': 36, 'random_number': 0.5213387756288197}. Best is trial 14 with value: 0.9341760443964853.\n",
      "[I 2024-12-18 00:07:20,616] Trial 28 finished with value: 0.9269399485705643 and parameters: {'alpha': 1.1955947491230386e-08, 'n_estimators': 60, 'max_depth': 41, 'random_number': 0.2966723158482492}. Best is trial 14 with value: 0.9341760443964853.\n",
      "[I 2024-12-18 00:07:42,720] Trial 29 finished with value: 0.8826197901899632 and parameters: {'alpha': 3.4299592343396857e-09, 'n_estimators': 80, 'max_depth': 47, 'random_number': 0.17013220318780398}. Best is trial 14 with value: 0.9341760443964853.\n",
      "[I 2024-12-18 00:07:57,509] Trial 30 finished with value: 0.9333745555727315 and parameters: {'alpha': 6.276320297682219e-08, 'n_estimators': 50, 'max_depth': 39, 'random_number': 0.4112761164089036}. Best is trial 14 with value: 0.9341760443964853.\n",
      "[I 2024-12-18 00:08:16,375] Trial 31 finished with value: 0.9246564523771916 and parameters: {'alpha': 1.3964498538941445e-06, 'n_estimators': 70, 'max_depth': 46, 'random_number': 0.6309014216448604}. Best is trial 14 with value: 0.9341760443964853.\n",
      "[I 2024-12-18 00:08:32,749] Trial 32 finished with value: 0.9315239432225862 and parameters: {'alpha': 6.761697457258842e-06, 'n_estimators': 60, 'max_depth': 32, 'random_number': 0.49801726618145753}. Best is trial 14 with value: 0.9341760443964853.\n",
      "[I 2024-12-18 00:08:56,669] Trial 33 finished with value: 0.8713368685459113 and parameters: {'alpha': 4.928569618094611e-10, 'n_estimators': 90, 'max_depth': 29, 'random_number': 0.15867189833492024}. Best is trial 14 with value: 0.9341760443964853.\n",
      "[I 2024-12-18 00:09:11,213] Trial 34 finished with value: 0.9216686674669868 and parameters: {'alpha': 2.7897759001739294e-07, 'n_estimators': 50, 'max_depth': 50, 'random_number': 0.2740466505754461}. Best is trial 14 with value: 0.9341760443964853.\n",
      "[I 2024-12-18 00:09:26,137] Trial 35 finished with value: 0.9334777227722771 and parameters: {'alpha': 5.064678395179423e-08, 'n_estimators': 50, 'max_depth': 41, 'random_number': 0.408453835549506}. Best is trial 14 with value: 0.9341760443964853.\n",
      "[I 2024-12-18 00:09:42,599] Trial 36 finished with value: 0.9317306210510095 and parameters: {'alpha': 2.8194833296194592e-08, 'n_estimators': 60, 'max_depth': 40, 'random_number': 0.3821537534490857}. Best is trial 14 with value: 0.9341760443964853.\n",
      "[I 2024-12-18 00:10:01,842] Trial 37 finished with value: 0.9320236981602744 and parameters: {'alpha': 4.812107478846501e-10, 'n_estimators': 70, 'max_depth': 46, 'random_number': 0.4991904853784919}. Best is trial 14 with value: 0.9341760443964853.\n",
      "[I 2024-12-18 00:10:16,281] Trial 38 finished with value: 0.9107248084855627 and parameters: {'alpha': 2.941317690215299e-07, 'n_estimators': 50, 'max_depth': 43, 'random_number': 0.2276621676331194}. Best is trial 14 with value: 0.9341760443964853.\n",
      "[I 2024-12-18 00:10:32,925] Trial 39 finished with value: 0.9232959038431124 and parameters: {'alpha': 5.121203978061959e-09, 'n_estimators': 60, 'max_depth': 35, 'random_number': 0.6251321896002755}. Best is trial 14 with value: 0.9341760443964853.\n",
      "[I 2024-12-18 00:10:57,508] Trial 40 finished with value: 0.9328209069946195 and parameters: {'alpha': 6.352784811486139e-08, 'n_estimators': 90, 'max_depth': 48, 'random_number': 0.3463524578837195}. Best is trial 14 with value: 0.9341760443964853.\n",
      "[I 2024-12-18 00:11:09,411] Trial 41 finished with value: 0.8542475933119406 and parameters: {'alpha': 0.002371833252377111, 'n_estimators': 70, 'max_depth': 12, 'random_number': 0.41335051665494593}. Best is trial 14 with value: 0.9341760443964853.\n",
      "[I 2024-12-18 00:11:24,263] Trial 42 finished with value: 0.8380572188955422 and parameters: {'alpha': 3.761304026295793e-05, 'n_estimators': 50, 'max_depth': 37, 'random_number': 0.13691540458721574}. Best is trial 14 with value: 0.9341760443964853.\n",
      "[I 2024-12-18 00:12:05,680] Trial 43 finished with value: 0.9003738013976921 and parameters: {'alpha': 6.994648263143797e-07, 'n_estimators': 150, 'max_depth': 41, 'random_number': 0.7964533433311699}. Best is trial 14 with value: 0.9341760443964853.\n",
      "[I 2024-12-18 00:12:33,179] Trial 44 finished with value: 0.9286257799421701 and parameters: {'alpha': 3.6308317494825036e-08, 'n_estimators': 100, 'max_depth': 32, 'random_number': 0.30608173176945463}. Best is trial 14 with value: 0.9341760443964853.\n",
      "[I 2024-12-18 00:12:48,056] Trial 45 finished with value: 0.933106751120037 and parameters: {'alpha': 1.4430994380980956e-07, 'n_estimators': 50, 'max_depth': 40, 'random_number': 0.4034928234852746}. Best is trial 14 with value: 0.9341760443964853.\n",
      "[I 2024-12-18 00:13:04,460] Trial 46 finished with value: 0.9328149300155522 and parameters: {'alpha': 1.2423776169274185e-09, 'n_estimators': 60, 'max_depth': 38, 'random_number': 0.4528890819312701}. Best is trial 14 with value: 0.9341760443964853.\n",
      "[I 2024-12-18 00:13:18,502] Trial 47 finished with value: 0.9250865596474661 and parameters: {'alpha': 7.495730237360705e-08, 'n_estimators': 50, 'max_depth': 26, 'random_number': 0.5352581327821118}. Best is trial 14 with value: 0.9341760443964853.\n",
      "[I 2024-12-18 00:13:33,989] Trial 48 finished with value: 0.9326170376055257 and parameters: {'alpha': 0.7598809740738246, 'n_estimators': 50, 'max_depth': 45, 'random_number': 0.348540132339252}. Best is trial 14 with value: 0.9341760443964853.\n",
      "[I 2024-12-18 00:13:50,791] Trial 49 finished with value: 0.9326070038910507 and parameters: {'alpha': 1.933190025738735e-08, 'n_estimators': 60, 'max_depth': 48, 'random_number': 0.47921649167854347}. Best is trial 14 with value: 0.9341760443964853.\n",
      "[I 2024-12-18 00:14:22,200] Trial 50 finished with value: 0.9266385108712655 and parameters: {'alpha': 5.732509020562072e-09, 'n_estimators': 130, 'max_depth': 23, 'random_number': 0.41238121534175187}. Best is trial 14 with value: 0.9341760443964853.\n"
     ]
    },
    {
     "name": "stderr",
     "output_type": "stream",
     "text": [
      "[I 2024-12-18 00:14:43,469] Trial 51 finished with value: 0.9321615787850756 and parameters: {'alpha': 2.224589216180801e-06, 'n_estimators': 80, 'max_depth': 29, 'random_number': 0.36806112627470633}. Best is trial 14 with value: 0.9341760443964853.\n",
      "[I 2024-12-18 00:15:02,530] Trial 52 finished with value: 0.9309534992954438 and parameters: {'alpha': 8.52249287122962e-06, 'n_estimators': 70, 'max_depth': 39, 'random_number': 0.5698147173011521}. Best is trial 14 with value: 0.9341760443964853.\n",
      "[I 2024-12-18 00:15:17,259] Trial 53 finished with value: 0.9050197570613201 and parameters: {'alpha': 5.450821065355629e-07, 'n_estimators': 50, 'max_depth': 50, 'random_number': 0.21433307585543526}. Best is trial 14 with value: 0.9341760443964853.\n",
      "[I 2024-12-18 00:15:34,145] Trial 54 finished with value: 0.9246534056660639 and parameters: {'alpha': 3.607968047573953e-08, 'n_estimators': 60, 'max_depth': 43, 'random_number': 0.2827932344319757}. Best is trial 14 with value: 0.9341760443964853.\n",
      "[I 2024-12-18 00:15:48,617] Trial 55 finished with value: 0.9326120556414219 and parameters: {'alpha': 1.0683870722052368e-07, 'n_estimators': 50, 'max_depth': 34, 'random_number': 0.4055623438008832}. Best is trial 14 with value: 0.9341760443964853.\n",
      "[I 2024-12-18 00:16:03,117] Trial 56 finished with value: 0.9331056961042992 and parameters: {'alpha': 2.0327586826493422e-07, 'n_estimators': 50, 'max_depth': 39, 'random_number': 0.44930683539101834}. Best is trial 14 with value: 0.9341760443964853.\n",
      "[I 2024-12-18 00:16:18,213] Trial 57 finished with value: 0.9318251299296851 and parameters: {'alpha': 7.52037540008743e-07, 'n_estimators': 50, 'max_depth': 42, 'random_number': 0.319393403365702}. Best is trial 14 with value: 0.9341760443964853.\n",
      "[I 2024-12-18 00:16:35,233] Trial 58 finished with value: 0.933415726865441 and parameters: {'alpha': 1.1912429472708666e-07, 'n_estimators': 60, 'max_depth': 44, 'random_number': 0.39504759640912385}. Best is trial 14 with value: 0.9341760443964853.\n",
      "[I 2024-12-18 00:16:51,896] Trial 59 finished with value: 0.9272898961284229 and parameters: {'alpha': 9.34984155040409e-09, 'n_estimators': 60, 'max_depth': 48, 'random_number': 0.5998028878828894}. Best is trial 14 with value: 0.9341760443964853.\n",
      "[I 2024-12-18 00:17:22,241] Trial 60 finished with value: 0.9316052467207996 and parameters: {'alpha': 2.6027777472918443e-09, 'n_estimators': 110, 'max_depth': 45, 'random_number': 0.5352030782773194}. Best is trial 14 with value: 0.9341760443964853.\n",
      "[I 2024-12-18 00:17:39,063] Trial 61 finished with value: 0.9331896551724138 and parameters: {'alpha': 5.374469995149118e-08, 'n_estimators': 60, 'max_depth': 47, 'random_number': 0.37299357326538607}. Best is trial 14 with value: 0.9341760443964853.\n",
      "[I 2024-12-18 00:17:58,194] Trial 62 finished with value: 0.9325248756218906 and parameters: {'alpha': 1.6742320434603987e-06, 'n_estimators': 70, 'max_depth': 42, 'random_number': 0.4562232023104788}. Best is trial 14 with value: 0.9341760443964853.\n",
      "[I 2024-12-18 00:18:12,786] Trial 63 finished with value: 0.9172259507829978 and parameters: {'alpha': 1.4789558686835924e-08, 'n_estimators': 50, 'max_depth': 45, 'random_number': 0.25843180909359986}. Best is trial 14 with value: 0.9341760443964853.\n",
      "[I 2024-12-18 00:18:29,739] Trial 64 finished with value: 0.9323100537221796 and parameters: {'alpha': 4.2984098231143655e-06, 'n_estimators': 60, 'max_depth': 50, 'random_number': 0.3416964822270536}. Best is trial 14 with value: 0.9341760443964853.\n",
      "[I 2024-12-18 00:18:46,357] Trial 65 finished with value: 0.9333127983982751 and parameters: {'alpha': 4.814769845527831e-08, 'n_estimators': 60, 'max_depth': 47, 'random_number': 0.3799945715835024}. Best is trial 14 with value: 0.9341760443964853.\n",
      "[I 2024-12-18 00:19:02,868] Trial 66 finished with value: 0.9323799160578268 and parameters: {'alpha': 8.703022582547206e-08, 'n_estimators': 60, 'max_depth': 44, 'random_number': 0.44152655727076073}. Best is trial 14 with value: 0.9341760443964853.\n",
      "[I 2024-12-18 00:19:17,465] Trial 67 finished with value: 0.9324408468244084 and parameters: {'alpha': 2.8943002937696335e-07, 'n_estimators': 50, 'max_depth': 47, 'random_number': 0.48063545361398785}. Best is trial 14 with value: 0.9341760443964853.\n",
      "[I 2024-12-18 00:19:32,340] Trial 68 finished with value: 0.933786078098472 and parameters: {'alpha': 9.998692094237824e-10, 'n_estimators': 50, 'max_depth': 48, 'random_number': 0.38714108991991225}. Best is trial 14 with value: 0.9341760443964853.\n",
      "[I 2024-12-18 00:19:47,027] Trial 69 finished with value: 0.9322721598002497 and parameters: {'alpha': 3.023175884205843e-10, 'n_estimators': 50, 'max_depth': 49, 'random_number': 0.5141514495089122}. Best is trial 14 with value: 0.9341760443964853.\n",
      "[I 2024-12-18 00:20:01,603] Trial 70 finished with value: 0.9321100917431193 and parameters: {'alpha': 9.160273727745168e-10, 'n_estimators': 50, 'max_depth': 43, 'random_number': 0.32651688027350334}. Best is trial 14 with value: 0.9341760443964853.\n",
      "[I 2024-12-18 00:20:16,257] Trial 71 finished with value: 0.9340557275541796 and parameters: {'alpha': 1.0981808909440927e-10, 'n_estimators': 50, 'max_depth': 36, 'random_number': 0.4230740334655344}. Best is trial 14 with value: 0.9341760443964853.\n",
      "[I 2024-12-18 00:20:32,847] Trial 72 finished with value: 0.9339944220638363 and parameters: {'alpha': 2.220646860170835e-10, 'n_estimators': 60, 'max_depth': 36, 'random_number': 0.4263974885048674}. Best is trial 14 with value: 0.9341760443964853.\n",
      "[I 2024-12-18 00:20:51,750] Trial 73 finished with value: 0.9327521793275217 and parameters: {'alpha': 1.1036310609385806e-10, 'n_estimators': 70, 'max_depth': 33, 'random_number': 0.4790555337988655}. Best is trial 14 with value: 0.9341760443964853.\n",
      "[I 2024-12-18 00:21:05,867] Trial 74 finished with value: 0.9321533923303835 and parameters: {'alpha': 7.106877374843905e-10, 'n_estimators': 50, 'max_depth': 31, 'random_number': 0.43825716735596065}. Best is trial 14 with value: 0.9341760443964853.\n",
      "[I 2024-12-18 00:21:22,756] Trial 75 finished with value: 0.9329428086943117 and parameters: {'alpha': 4.053594063239411e-10, 'n_estimators': 60, 'max_depth': 37, 'random_number': 0.380968647503491}. Best is trial 14 with value: 0.9341760443964853.\n",
      "[I 2024-12-18 00:21:37,628] Trial 76 finished with value: 0.9329409942697847 and parameters: {'alpha': 2.672261549699868e-10, 'n_estimators': 50, 'max_depth': 41, 'random_number': 0.4219587076324045}. Best is trial 14 with value: 0.9341760443964853.\n",
      "[I 2024-12-18 00:21:59,458] Trial 77 finished with value: 0.9325134511913912 and parameters: {'alpha': 1.652898820657607e-10, 'n_estimators': 80, 'max_depth': 46, 'random_number': 0.3549499205412487}. Best is trial 14 with value: 0.9341760443964853.\n",
      "[I 2024-12-18 00:22:15,866] Trial 78 finished with value: 0.9252152893186283 and parameters: {'alpha': 2.185025840583036e-09, 'n_estimators': 60, 'max_depth': 36, 'random_number': 0.2970809448578945}. Best is trial 14 with value: 0.9341760443964853.\n",
      "[I 2024-12-18 00:22:30,511] Trial 79 finished with value: 0.9337656322371467 and parameters: {'alpha': 1.1598839250391431e-10, 'n_estimators': 50, 'max_depth': 35, 'random_number': 0.3909985361130912}. Best is trial 14 with value: 0.9341760443964853.\n",
      "[I 2024-12-18 00:22:45,120] Trial 80 finished with value: 0.9315666406858925 and parameters: {'alpha': 1.5764767197334583e-10, 'n_estimators': 50, 'max_depth': 35, 'random_number': 0.4882076240789631}. Best is trial 14 with value: 0.9341760443964853.\n",
      "[I 2024-12-18 00:22:59,580] Trial 81 finished with value: 0.9314259057689318 and parameters: {'alpha': 1.3304285280750159e-09, 'n_estimators': 50, 'max_depth': 29, 'random_number': 0.4278258638387152}. Best is trial 14 with value: 0.9341760443964853.\n",
      "[I 2024-12-18 00:23:13,823] Trial 82 finished with value: 0.9300797747536368 and parameters: {'alpha': 8.284918203592078e-10, 'n_estimators': 50, 'max_depth': 37, 'random_number': 0.5519319358943832}. Best is trial 14 with value: 0.9341760443964853.\n",
      "[I 2024-12-18 00:23:16,122] Trial 83 finished with value: 0.4803611738148985 and parameters: {'alpha': 6.081853825533916e-09, 'n_estimators': 60, 'max_depth': 2, 'random_number': 0.3407714260964501}. Best is trial 14 with value: 0.9341760443964853.\n"
     ]
    },
    {
     "name": "stderr",
     "output_type": "stream",
     "text": [
      "[I 2024-12-18 00:23:30,165] Trial 84 finished with value: 0.9205635491606714 and parameters: {'alpha': 1.0317980895362874e-10, 'n_estimators': 50, 'max_depth': 24, 'random_number': 0.24982741634704816}. Best is trial 14 with value: 0.9341760443964853.\n",
      "[I 2024-12-18 00:23:46,742] Trial 85 finished with value: 0.9324887996292291 and parameters: {'alpha': 2.954975025813512e-10, 'n_estimators': 60, 'max_depth': 40, 'random_number': 0.4059068502826842}. Best is trial 14 with value: 0.9341760443964853.\n",
      "[I 2024-12-18 00:24:01,223] Trial 86 finished with value: 0.9339506172839506 and parameters: {'alpha': 3.0801990326158662e-09, 'n_estimators': 50, 'max_depth': 49, 'random_number': 0.38789936328350516}. Best is trial 14 with value: 0.9341760443964853.\n",
      "[I 2024-12-18 00:24:16,004] Trial 87 finished with value: 0.932150638032991 and parameters: {'alpha': 3.41682953315346e-09, 'n_estimators': 50, 'max_depth': 49, 'random_number': 0.4711583217598537}. Best is trial 14 with value: 0.9341760443964853.\n",
      "[I 2024-12-18 00:24:30,624] Trial 88 finished with value: 0.9322721598002497 and parameters: {'alpha': 5.698174575766416e-10, 'n_estimators': 50, 'max_depth': 49, 'random_number': 0.513572750619228}. Best is trial 14 with value: 0.9341760443964853.\n",
      "[I 2024-12-18 00:24:45,385] Trial 89 finished with value: 0.7909074508388958 and parameters: {'alpha': 2.3831254507605532e-08, 'n_estimators': 50, 'max_depth': 34, 'random_number': 0.9941066497226368}. Best is trial 14 with value: 0.9341760443964853.\n",
      "[I 2024-12-18 00:24:59,239] Trial 90 finished with value: 0.9300122249388754 and parameters: {'alpha': 1.7773436047231596e-09, 'n_estimators': 50, 'max_depth': 27, 'random_number': 0.31506410136130514}. Best is trial 14 with value: 0.9341760443964853.\n",
      "[I 2024-12-18 00:25:13,630] Trial 91 finished with value: 0.6011624688624412 and parameters: {'alpha': 8.838148396513735e-09, 'n_estimators': 50, 'max_depth': 38, 'random_number': 0.02339534067016913}. Best is trial 14 with value: 0.9341760443964853.\n",
      "[I 2024-12-18 00:25:22,024] Trial 92 finished with value: 0.8484151749055674 and parameters: {'alpha': 1.6325243802743895e-10, 'n_estimators': 60, 'max_depth': 9, 'random_number': 0.1981004686734242}. Best is trial 14 with value: 0.9341760443964853.\n",
      "[I 2024-12-18 00:25:51,455] Trial 93 finished with value: 0.9332718327183271 and parameters: {'alpha': 4.380847958409668e-09, 'n_estimators': 100, 'max_depth': 35, 'random_number': 0.3634477783819101}. Best is trial 14 with value: 0.9341760443964853.\n",
      "[I 2024-12-18 00:26:26,388] Trial 94 finished with value: 0.9244913338357196 and parameters: {'alpha': 4.1519509872172524e-10, 'n_estimators': 120, 'max_depth': 32, 'random_number': 0.28074679364578903}. Best is trial 14 with value: 0.9341760443964853.\n",
      "[I 2024-12-18 00:26:45,933] Trial 95 finished with value: 0.9328600092606885 and parameters: {'alpha': 1.5305681058005903e-07, 'n_estimators': 70, 'max_depth': 44, 'random_number': 0.39150430488423926}. Best is trial 14 with value: 0.9341760443964853.\n",
      "[I 2024-12-18 00:27:03,432] Trial 96 finished with value: 0.9326120556414219 and parameters: {'alpha': 1.824940656169274e-05, 'n_estimators': 60, 'max_depth': 46, 'random_number': 0.3999283801666975}. Best is trial 14 with value: 0.9341760443964853.\n",
      "[I 2024-12-18 00:27:21,302] Trial 97 finished with value: 0.9325248756218906 and parameters: {'alpha': 4.851932250327935e-07, 'n_estimators': 60, 'max_depth': 48, 'random_number': 0.4513441248113951}. Best is trial 14 with value: 0.9341760443964853.\n",
      "[I 2024-12-18 00:27:37,359] Trial 98 finished with value: 0.9341391600805826 and parameters: {'alpha': 1.5402997350687292e-08, 'n_estimators': 50, 'max_depth': 42, 'random_number': 0.4358070667937421}. Best is trial 14 with value: 0.9341760443964853.\n",
      "[I 2024-12-18 00:27:54,262] Trial 99 finished with value: 0.9309079792112503 and parameters: {'alpha': 1.5838458780699514e-08, 'n_estimators': 50, 'max_depth': 40, 'random_number': 0.3271139720488274}. Best is trial 14 with value: 0.9341760443964853.\n",
      "[I 2024-12-18 00:28:33,808] Trial 100 finished with value: 0.9327340359578425 and parameters: {'alpha': 1.4015639899155995e-09, 'n_estimators': 140, 'max_depth': 50, 'random_number': 0.434244821849203}. Best is trial 14 with value: 0.9341760443964853.\n",
      "[I 2024-12-18 00:28:49,238] Trial 101 finished with value: 0.9337686567164178 and parameters: {'alpha': 7.950416257458283e-09, 'n_estimators': 50, 'max_depth': 36, 'random_number': 0.46555353672928884}. Best is trial 14 with value: 0.9341760443964853.\n",
      "[I 2024-12-18 00:29:04,934] Trial 102 finished with value: 0.910979702732939 and parameters: {'alpha': 3.3898847366690474e-09, 'n_estimators': 50, 'max_depth': 21, 'random_number': 0.5086679082204013}. Best is trial 14 with value: 0.9341760443964853.\n",
      "[I 2024-12-18 00:29:24,416] Trial 103 finished with value: 0.9336853548687682 and parameters: {'alpha': 9.35433611050652e-09, 'n_estimators': 50, 'max_depth': 36, 'random_number': 0.45782762153985596}. Best is trial 14 with value: 0.9341760443964853.\n",
      "[I 2024-12-18 00:29:40,195] Trial 104 finished with value: 0.9339138547659772 and parameters: {'alpha': 9.319397424178987e-09, 'n_estimators': 50, 'max_depth': 36, 'random_number': 0.4691904277083186}. Best is trial 14 with value: 0.9341760443964853.\n",
      "[I 2024-12-18 00:29:55,434] Trial 105 finished with value: 0.9338509316770186 and parameters: {'alpha': 7.833536146011692e-09, 'n_estimators': 50, 'max_depth': 36, 'random_number': 0.45556136192694563}. Best is trial 14 with value: 0.9341760443964853.\n",
      "[I 2024-12-18 00:30:09,843] Trial 106 finished with value: 0.93179694799128 and parameters: {'alpha': 5.7056207948965e-09, 'n_estimators': 50, 'max_depth': 31, 'random_number': 0.4670898719840011}. Best is trial 14 with value: 0.9341760443964853.\n",
      "[I 2024-12-18 00:30:25,188] Trial 107 finished with value: 0.9331683168316831 and parameters: {'alpha': 2.5689855165104324e-08, 'n_estimators': 50, 'max_depth': 33, 'random_number': 0.4267287544214103}. Best is trial 14 with value: 0.9341760443964853.\n",
      "[I 2024-12-18 00:30:43,047] Trial 108 finished with value: 0.9307271305707584 and parameters: {'alpha': 1.0522669691664067e-09, 'n_estimators': 60, 'max_depth': 38, 'random_number': 0.5393073656956406}. Best is trial 14 with value: 0.9341760443964853.\n",
      "[I 2024-12-18 00:30:58,531] Trial 109 finished with value: 0.9319208599470323 and parameters: {'alpha': 2.5020271228476366e-09, 'n_estimators': 50, 'max_depth': 36, 'random_number': 0.48909582096873744}. Best is trial 14 with value: 0.9341760443964853.\n",
      "[I 2024-12-18 00:31:14,219] Trial 110 finished with value: 0.9322426300354992 and parameters: {'alpha': 1.2975918553465952e-08, 'n_estimators': 50, 'max_depth': 34, 'random_number': 0.38481291462980205}. Best is trial 14 with value: 0.9341760443964853.\n",
      "[I 2024-12-18 00:31:30,190] Trial 111 finished with value: 0.9331896551724138 and parameters: {'alpha': 2.2342832805195197e-10, 'n_estimators': 50, 'max_depth': 42, 'random_number': 0.36031722277085587}. Best is trial 14 with value: 0.9341760443964853.\n",
      "[I 2024-12-18 00:31:48,447] Trial 112 finished with value: 0.9288742345737163 and parameters: {'alpha': 7.067704161164122e-09, 'n_estimators': 60, 'max_depth': 37, 'random_number': 0.5955182971924503}. Best is trial 14 with value: 0.9341760443964853.\n",
      "[I 2024-12-18 00:32:06,704] Trial 113 finished with value: 0.9327117327117327 and parameters: {'alpha': 6.564193917807053e-10, 'n_estimators': 60, 'max_depth': 49, 'random_number': 0.4397408718312416}. Best is trial 14 with value: 0.9341760443964853.\n",
      "[I 2024-12-18 00:32:22,408] Trial 114 finished with value: 0.9333745555727315 and parameters: {'alpha': 3.9883284593889275e-08, 'n_estimators': 50, 'max_depth': 39, 'random_number': 0.416365525345231}. Best is trial 14 with value: 0.9341760443964853.\n",
      "[I 2024-12-18 00:32:37,848] Trial 115 finished with value: 0.9328984156570362 and parameters: {'alpha': 1.0444498244947419e-08, 'n_estimators': 50, 'max_depth': 35, 'random_number': 0.4553505423077231}. Best is trial 14 with value: 0.9341760443964853.\n",
      "[I 2024-12-18 00:32:53,209] Trial 116 finished with value: 0.9317118802619271 and parameters: {'alpha': 4.075706022573798e-09, 'n_estimators': 50, 'max_depth': 36, 'random_number': 0.5012156019896068}. Best is trial 14 with value: 0.9341760443964853.\n"
     ]
    },
    {
     "name": "stderr",
     "output_type": "stream",
     "text": [
      "[I 2024-12-18 00:33:09,309] Trial 117 finished with value: 0.9314472252448314 and parameters: {'alpha': 2.2837905645116984e-08, 'n_estimators': 50, 'max_depth': 33, 'random_number': 0.46852915888695174}. Best is trial 14 with value: 0.9341760443964853.\n"
     ]
    }
   ],
   "source": [
    "def objective(trial):\n",
    "    n_estimators = trial.suggest_int('n_estimators', 50, 150, step=10)  \n",
    "    max_depth = trial.suggest_int('max_depth', 1, 50) \n",
    "    random_number = trial.suggest_float('random_number', 0.0, 1.0)\n",
    "\n",
    "    # создание и обучение модели\n",
    "    model = RandomForestClassifier(n_estimators=n_estimators, max_depth=max_depth, random_state=42,n_jobs = -1)\n",
    "    model.fit(X_train, y_train)\n",
    "    \n",
    "    y_pred = model.predict_proba(X_test)[:,1]\n",
    "    y_pred = (y_pred > random_number).astype(int)\n",
    "    f1 = f1_score(y_test, y_pred)\n",
    "    \n",
    "    return f1\n",
    "study.optimize(objective, n_trials=100)"
   ]
  },
  {
   "cell_type": "code",
   "execution_count": 87,
   "id": "ed5685a6",
   "metadata": {},
   "outputs": [
    {
     "data": {
      "text/plain": [
       "{'alpha': 1.6221790117016662e-09,\n",
       " 'n_estimators': 70,\n",
       " 'max_depth': 6,\n",
       " 'random_number': 0.17979746317323575}"
      ]
     },
     "execution_count": 87,
     "metadata": {},
     "output_type": "execute_result"
    }
   ],
   "source": [
    "study.best_trial.params"
   ]
  },
  {
   "cell_type": "code",
   "execution_count": 101,
   "id": "74b6e06a",
   "metadata": {},
   "outputs": [],
   "source": [
    "rf = RandomForestClassifier(n_estimators = study.best_trial.params['n_estimators'],max_depth = study.best_trial.params['max_depth'], random_state=42, n_jobs = -1)"
   ]
  },
  {
   "cell_type": "code",
   "execution_count": 102,
   "id": "91d872bd",
   "metadata": {},
   "outputs": [
    {
     "data": {
      "text/html": [
       "<style>#sk-container-id-3 {color: black;background-color: white;}#sk-container-id-3 pre{padding: 0;}#sk-container-id-3 div.sk-toggleable {background-color: white;}#sk-container-id-3 label.sk-toggleable__label {cursor: pointer;display: block;width: 100%;margin-bottom: 0;padding: 0.3em;box-sizing: border-box;text-align: center;}#sk-container-id-3 label.sk-toggleable__label-arrow:before {content: \"▸\";float: left;margin-right: 0.25em;color: #696969;}#sk-container-id-3 label.sk-toggleable__label-arrow:hover:before {color: black;}#sk-container-id-3 div.sk-estimator:hover label.sk-toggleable__label-arrow:before {color: black;}#sk-container-id-3 div.sk-toggleable__content {max-height: 0;max-width: 0;overflow: hidden;text-align: left;background-color: #f0f8ff;}#sk-container-id-3 div.sk-toggleable__content pre {margin: 0.2em;color: black;border-radius: 0.25em;background-color: #f0f8ff;}#sk-container-id-3 input.sk-toggleable__control:checked~div.sk-toggleable__content {max-height: 200px;max-width: 100%;overflow: auto;}#sk-container-id-3 input.sk-toggleable__control:checked~label.sk-toggleable__label-arrow:before {content: \"▾\";}#sk-container-id-3 div.sk-estimator input.sk-toggleable__control:checked~label.sk-toggleable__label {background-color: #d4ebff;}#sk-container-id-3 div.sk-label input.sk-toggleable__control:checked~label.sk-toggleable__label {background-color: #d4ebff;}#sk-container-id-3 input.sk-hidden--visually {border: 0;clip: rect(1px 1px 1px 1px);clip: rect(1px, 1px, 1px, 1px);height: 1px;margin: -1px;overflow: hidden;padding: 0;position: absolute;width: 1px;}#sk-container-id-3 div.sk-estimator {font-family: monospace;background-color: #f0f8ff;border: 1px dotted black;border-radius: 0.25em;box-sizing: border-box;margin-bottom: 0.5em;}#sk-container-id-3 div.sk-estimator:hover {background-color: #d4ebff;}#sk-container-id-3 div.sk-parallel-item::after {content: \"\";width: 100%;border-bottom: 1px solid gray;flex-grow: 1;}#sk-container-id-3 div.sk-label:hover label.sk-toggleable__label {background-color: #d4ebff;}#sk-container-id-3 div.sk-serial::before {content: \"\";position: absolute;border-left: 1px solid gray;box-sizing: border-box;top: 0;bottom: 0;left: 50%;z-index: 0;}#sk-container-id-3 div.sk-serial {display: flex;flex-direction: column;align-items: center;background-color: white;padding-right: 0.2em;padding-left: 0.2em;position: relative;}#sk-container-id-3 div.sk-item {position: relative;z-index: 1;}#sk-container-id-3 div.sk-parallel {display: flex;align-items: stretch;justify-content: center;background-color: white;position: relative;}#sk-container-id-3 div.sk-item::before, #sk-container-id-3 div.sk-parallel-item::before {content: \"\";position: absolute;border-left: 1px solid gray;box-sizing: border-box;top: 0;bottom: 0;left: 50%;z-index: -1;}#sk-container-id-3 div.sk-parallel-item {display: flex;flex-direction: column;z-index: 1;position: relative;background-color: white;}#sk-container-id-3 div.sk-parallel-item:first-child::after {align-self: flex-end;width: 50%;}#sk-container-id-3 div.sk-parallel-item:last-child::after {align-self: flex-start;width: 50%;}#sk-container-id-3 div.sk-parallel-item:only-child::after {width: 0;}#sk-container-id-3 div.sk-dashed-wrapped {border: 1px dashed gray;margin: 0 0.4em 0.5em 0.4em;box-sizing: border-box;padding-bottom: 0.4em;background-color: white;}#sk-container-id-3 div.sk-label label {font-family: monospace;font-weight: bold;display: inline-block;line-height: 1.2em;}#sk-container-id-3 div.sk-label-container {text-align: center;}#sk-container-id-3 div.sk-container {/* jupyter's `normalize.less` sets `[hidden] { display: none; }` but bootstrap.min.css set `[hidden] { display: none !important; }` so we also need the `!important` here to be able to override the default hidden behavior on the sphinx rendered scikit-learn.org. See: https://github.com/scikit-learn/scikit-learn/issues/21755 */display: inline-block !important;position: relative;}#sk-container-id-3 div.sk-text-repr-fallback {display: none;}</style><div id=\"sk-container-id-3\" class=\"sk-top-container\"><div class=\"sk-text-repr-fallback\"><pre>RandomForestClassifier(max_depth=49, n_estimators=50, n_jobs=-1,\n",
       "                       random_state=42)</pre><b>In a Jupyter environment, please rerun this cell to show the HTML representation or trust the notebook. <br />On GitHub, the HTML representation is unable to render, please try loading this page with nbviewer.org.</b></div><div class=\"sk-container\" hidden><div class=\"sk-item\"><div class=\"sk-estimator sk-toggleable\"><input class=\"sk-toggleable__control sk-hidden--visually\" id=\"sk-estimator-id-3\" type=\"checkbox\" checked><label for=\"sk-estimator-id-3\" class=\"sk-toggleable__label sk-toggleable__label-arrow\">RandomForestClassifier</label><div class=\"sk-toggleable__content\"><pre>RandomForestClassifier(max_depth=49, n_estimators=50, n_jobs=-1,\n",
       "                       random_state=42)</pre></div></div></div></div></div>"
      ],
      "text/plain": [
       "RandomForestClassifier(max_depth=49, n_estimators=50, n_jobs=-1,\n",
       "                       random_state=42)"
      ]
     },
     "execution_count": 102,
     "metadata": {},
     "output_type": "execute_result"
    }
   ],
   "source": [
    "rf.fit(X_train,y_train)"
   ]
  },
  {
   "cell_type": "code",
   "execution_count": 105,
   "id": "759e8190",
   "metadata": {},
   "outputs": [
    {
     "name": "stdout",
     "output_type": "stream",
     "text": [
      "f1: 0.9336003697427206\n"
     ]
    }
   ],
   "source": [
    "y_pred =(lin.predict_proba(X_test)[:,1] >study.best_trial.params['random_number']).astype(int)\n",
    "print(f'f1: { f1_score(y_test,y_pred)}')"
   ]
  },
  {
   "cell_type": "code",
   "execution_count": 106,
   "id": "c2fa9732",
   "metadata": {},
   "outputs": [],
   "source": [
    "test.loc[:, 'vector'] = test['url_clean'].apply(lambda x: sentence_to_vector(x, model))"
   ]
  },
  {
   "cell_type": "code",
   "execution_count": 107,
   "id": "efbb6f9a",
   "metadata": {},
   "outputs": [],
   "source": [
    "X_test = np.vstack(test['vector'].values)"
   ]
  },
  {
   "cell_type": "code",
   "execution_count": 108,
   "id": "2d29f437",
   "metadata": {},
   "outputs": [],
   "source": [
    "pd.DataFrame((lin.predict_proba(X_test)[:,1] > 0.42).astype(int),index = test.index,columns=['label']).to_csv('pred.csv')"
   ]
  },
  {
   "cell_type": "markdown",
   "id": "4d4b60f6",
   "metadata": {},
   "source": [
    "# Поработаем с title"
   ]
  },
  {
   "cell_type": "code",
   "execution_count": 34,
   "id": "b4f26a63",
   "metadata": {},
   "outputs": [
    {
     "data": {
      "text/html": [
       "<div>\n",
       "<style scoped>\n",
       "    .dataframe tbody tr th:only-of-type {\n",
       "        vertical-align: middle;\n",
       "    }\n",
       "\n",
       "    .dataframe tbody tr th {\n",
       "        vertical-align: top;\n",
       "    }\n",
       "\n",
       "    .dataframe thead th {\n",
       "        text-align: right;\n",
       "    }\n",
       "</style>\n",
       "<table border=\"1\" class=\"dataframe\">\n",
       "  <thead>\n",
       "    <tr style=\"text-align: right;\">\n",
       "      <th></th>\n",
       "      <th>title</th>\n",
       "      <th>label</th>\n",
       "      <th>url_clean</th>\n",
       "    </tr>\n",
       "    <tr>\n",
       "      <th>ID</th>\n",
       "      <th></th>\n",
       "      <th></th>\n",
       "      <th></th>\n",
       "    </tr>\n",
       "  </thead>\n",
       "  <tbody>\n",
       "    <tr>\n",
       "      <th>8</th>\n",
       "      <td>league of legends » Page 5 » Porn comics free ...</td>\n",
       "      <td>1</td>\n",
       "      <td>xlecx</td>\n",
       "    </tr>\n",
       "    <tr>\n",
       "      <th>12</th>\n",
       "      <td>кримпай,мать и сын » Страница 5 » смотреть пор...</td>\n",
       "      <td>1</td>\n",
       "      <td>pornmult</td>\n",
       "    </tr>\n",
       "    <tr>\n",
       "      <th>19</th>\n",
       "      <td>Мужик поставил блондинку раком и отодрал ее ту...</td>\n",
       "      <td>1</td>\n",
       "      <td>24eropixel</td>\n",
       "    </tr>\n",
       "    <tr>\n",
       "      <th>21</th>\n",
       "      <td>Порно которое ты искал / Видео - Spaces.ru / S...</td>\n",
       "      <td>1</td>\n",
       "      <td>gdespaces</td>\n",
       "    </tr>\n",
       "    <tr>\n",
       "      <th>41</th>\n",
       "      <td>Лесбийский секс с кунилингусом двух стройных с...</td>\n",
       "      <td>1</td>\n",
       "      <td>hdxclub</td>\n",
       "    </tr>\n",
       "    <tr>\n",
       "      <th>47</th>\n",
       "      <td>Lesbians Monique Alexander and Violet Starr fu...</td>\n",
       "      <td>1</td>\n",
       "      <td>ampproject</td>\n",
       "    </tr>\n",
       "    <tr>\n",
       "      <th>52</th>\n",
       "      <td>Indian aunty bjowjob and fucking with her part...</td>\n",
       "      <td>1</td>\n",
       "      <td>desixxxtube</td>\n",
       "    </tr>\n",
       "    <tr>\n",
       "      <th>53</th>\n",
       "      <td>Sweet, Russian honey, Angelika got down and di...</td>\n",
       "      <td>1</td>\n",
       "      <td>perfektdamen</td>\n",
       "    </tr>\n",
       "    <tr>\n",
       "      <th>55</th>\n",
       "      <td>Playlist Lesbian — DaftSex</td>\n",
       "      <td>1</td>\n",
       "      <td>daftsex</td>\n",
       "    </tr>\n",
       "    <tr>\n",
       "      <th>56</th>\n",
       "      <td>Фото голых девочек и бесплатная эротика на Top...</td>\n",
       "      <td>1</td>\n",
       "      <td>topdevka</td>\n",
       "    </tr>\n",
       "    <tr>\n",
       "      <th>57</th>\n",
       "      <td>Порно видео №309 - эротические фильмы с малоле...</td>\n",
       "      <td>1</td>\n",
       "      <td>dohera porno</td>\n",
       "    </tr>\n",
       "    <tr>\n",
       "      <th>99</th>\n",
       "      <td>Шикарная молодая женщина с обнаженными сосками...</td>\n",
       "      <td>1</td>\n",
       "      <td>devkis</td>\n",
       "    </tr>\n",
       "    <tr>\n",
       "      <th>111</th>\n",
       "      <td>Charlie Red Anal – DaftSex</td>\n",
       "      <td>1</td>\n",
       "      <td>daftsex</td>\n",
       "    </tr>\n",
       "    <tr>\n",
       "      <th>122</th>\n",
       "      <td>Секс знакомства Обмен Интим Фото, без регистра...</td>\n",
       "      <td>1</td>\n",
       "      <td>sexoo</td>\n",
       "    </tr>\n",
       "    <tr>\n",
       "      <th>125</th>\n",
       "      <td>Teenfidelity.com – TF’s Real Life 9 Ryan Madis...</td>\n",
       "      <td>1</td>\n",
       "      <td>porntube18</td>\n",
       "    </tr>\n",
       "    <tr>\n",
       "      <th>146</th>\n",
       "      <td>Big titted milf with glasses is rubbing her lo...</td>\n",
       "      <td>1</td>\n",
       "      <td>perfectgirls</td>\n",
       "    </tr>\n",
       "    <tr>\n",
       "      <th>149</th>\n",
       "      <td>Отправление ответа на объявление – ОгоСекс.ру</td>\n",
       "      <td>1</td>\n",
       "      <td>ogosex</td>\n",
       "    </tr>\n",
       "    <tr>\n",
       "      <th>160</th>\n",
       "      <td>Cherie Deville: порно видео. Скачать и смотрет...</td>\n",
       "      <td>1</td>\n",
       "      <td>xn  e1afprfv</td>\n",
       "    </tr>\n",
       "    <tr>\n",
       "      <th>161</th>\n",
       "      <td>Kayla Kayden Anal – DaftSex</td>\n",
       "      <td>1</td>\n",
       "      <td>daftsex</td>\n",
       "    </tr>\n",
       "    <tr>\n",
       "      <th>167</th>\n",
       "      <td>Search Videos for: Threesome docot movies (pag...</td>\n",
       "      <td>1</td>\n",
       "      <td>pornktube</td>\n",
       "    </tr>\n",
       "  </tbody>\n",
       "</table>\n",
       "</div>"
      ],
      "text/plain": [
       "                                                 title  label     url_clean\n",
       "ID                                                                         \n",
       "8    league of legends » Page 5 » Porn comics free ...      1         xlecx\n",
       "12   кримпай,мать и сын » Страница 5 » смотреть пор...      1      pornmult\n",
       "19   Мужик поставил блондинку раком и отодрал ее ту...      1    24eropixel\n",
       "21   Порно которое ты искал / Видео - Spaces.ru / S...      1     gdespaces\n",
       "41   Лесбийский секс с кунилингусом двух стройных с...      1       hdxclub\n",
       "47   Lesbians Monique Alexander and Violet Starr fu...      1    ampproject\n",
       "52   Indian aunty bjowjob and fucking with her part...      1   desixxxtube\n",
       "53   Sweet, Russian honey, Angelika got down and di...      1  perfektdamen\n",
       "55                          Playlist Lesbian — DaftSex      1       daftsex\n",
       "56   Фото голых девочек и бесплатная эротика на Top...      1      topdevka\n",
       "57   Порно видео №309 - эротические фильмы с малоле...      1  dohera porno\n",
       "99   Шикарная молодая женщина с обнаженными сосками...      1        devkis\n",
       "111                         Charlie Red Anal – DaftSex      1       daftsex\n",
       "122  Секс знакомства Обмен Интим Фото, без регистра...      1         sexoo\n",
       "125  Teenfidelity.com – TF’s Real Life 9 Ryan Madis...      1    porntube18\n",
       "146  Big titted milf with glasses is rubbing her lo...      1  perfectgirls\n",
       "149      Отправление ответа на объявление – ОгоСекс.ру      1        ogosex\n",
       "160  Cherie Deville: порно видео. Скачать и смотрет...      1  xn  e1afprfv\n",
       "161                        Kayla Kayden Anal – DaftSex      1       daftsex\n",
       "167  Search Videos for: Threesome docot movies (pag...      1     pornktube"
      ]
     },
     "execution_count": 34,
     "metadata": {},
     "output_type": "execute_result"
    }
   ],
   "source": [
    "train[train['label'] == 1].head(20)"
   ]
  },
  {
   "cell_type": "code",
   "execution_count": 35,
   "id": "0abec30c",
   "metadata": {},
   "outputs": [],
   "source": [
    "def clean_data(text):\n",
    "    text = text.lower()\n",
    "    text = remove_punctuation(text)\n",
    "    text = re.sub(r\"\\d+\", \" \",text)\n",
    "    spec = []\n",
    "    for tex in text.split():\n",
    "        if tex not in stop_words and tex not in string.punctuation + '—':\n",
    "            spec.append(tex)\n",
    "    return ' '.join(spec)"
   ]
  },
  {
   "cell_type": "code",
   "execution_count": 36,
   "id": "6e1a5827",
   "metadata": {},
   "outputs": [],
   "source": [
    "train['clean_title'] = train['title'].apply(clean_data)"
   ]
  },
  {
   "cell_type": "code",
   "execution_count": 37,
   "id": "e974a118",
   "metadata": {},
   "outputs": [
    {
     "data": {
      "text/html": [
       "<div>\n",
       "<style scoped>\n",
       "    .dataframe tbody tr th:only-of-type {\n",
       "        vertical-align: middle;\n",
       "    }\n",
       "\n",
       "    .dataframe tbody tr th {\n",
       "        vertical-align: top;\n",
       "    }\n",
       "\n",
       "    .dataframe thead th {\n",
       "        text-align: right;\n",
       "    }\n",
       "</style>\n",
       "<table border=\"1\" class=\"dataframe\">\n",
       "  <thead>\n",
       "    <tr style=\"text-align: right;\">\n",
       "      <th></th>\n",
       "      <th>clean_title</th>\n",
       "    </tr>\n",
       "    <tr>\n",
       "      <th>ID</th>\n",
       "      <th></th>\n",
       "    </tr>\n",
       "  </thead>\n",
       "  <tbody>\n",
       "    <tr>\n",
       "      <th>0</th>\n",
       "      <td>экс министр экономики молдовы главе мидэи цель...</td>\n",
       "    </tr>\n",
       "    <tr>\n",
       "      <th>1</th>\n",
       "      <td>эта песня стала известна многим телезрителям б...</td>\n",
       "    </tr>\n",
       "    <tr>\n",
       "      <th>2</th>\n",
       "      <td>банши сезон серия бремя красоты смотреть онлайн</td>\n",
       "    </tr>\n",
       "    <tr>\n",
       "      <th>3</th>\n",
       "      <td>беси картинки</td>\n",
       "    </tr>\n",
       "    <tr>\n",
       "      <th>4</th>\n",
       "      <td>новомосковске сыграют следж хоккеисты алексинс...</td>\n",
       "    </tr>\n",
       "    <tr>\n",
       "      <th>...</th>\n",
       "      <td>...</td>\n",
       "    </tr>\n",
       "    <tr>\n",
       "      <th>135304</th>\n",
       "      <td>пора тюльпанов турецкий сериал русском языке р...</td>\n",
       "    </tr>\n",
       "    <tr>\n",
       "      <th>135305</th>\n",
       "      <td>остросюжетный сериал «шеф игра повышение» серия</td>\n",
       "    </tr>\n",
       "    <tr>\n",
       "      <th>135306</th>\n",
       "      <td>plymouth special deluxe hot rod automatic smal...</td>\n",
       "    </tr>\n",
       "    <tr>\n",
       "      <th>135307</th>\n",
       "      <td>купить skin сыворотка питательная power formul...</td>\n",
       "    </tr>\n",
       "    <tr>\n",
       "      <th>135308</th>\n",
       "      <td>технический спирт канистрах флаконах купить мо...</td>\n",
       "    </tr>\n",
       "  </tbody>\n",
       "</table>\n",
       "<p>135308 rows × 1 columns</p>\n",
       "</div>"
      ],
      "text/plain": [
       "                                              clean_title\n",
       "ID                                                       \n",
       "0       экс министр экономики молдовы главе мидэи цель...\n",
       "1       эта песня стала известна многим телезрителям б...\n",
       "2         банши сезон серия бремя красоты смотреть онлайн\n",
       "3                                           беси картинки\n",
       "4       новомосковске сыграют следж хоккеисты алексинс...\n",
       "...                                                   ...\n",
       "135304  пора тюльпанов турецкий сериал русском языке р...\n",
       "135305    остросюжетный сериал «шеф игра повышение» серия\n",
       "135306  plymouth special deluxe hot rod automatic smal...\n",
       "135307  купить skin сыворотка питательная power formul...\n",
       "135308  технический спирт канистрах флаконах купить мо...\n",
       "\n",
       "[135308 rows x 1 columns]"
      ]
     },
     "execution_count": 37,
     "metadata": {},
     "output_type": "execute_result"
    }
   ],
   "source": [
    "train[['clean_title']]"
   ]
  },
  {
   "cell_type": "code",
   "execution_count": 38,
   "id": "23dbe42d",
   "metadata": {},
   "outputs": [],
   "source": [
    "from transformers import BertTokenizer,BertModel\n",
    "\n",
    "model_name = 'bert-base-multilingual-cased'\n",
    "tokenizer = BertTokenizer.from_pretrained(model_name)\n",
    "model = BertModel.from_pretrained(model_name)"
   ]
  },
  {
   "cell_type": "code",
   "execution_count": 39,
   "id": "b2540b8f",
   "metadata": {},
   "outputs": [],
   "source": [
    "text = \"Пример текста на русском языке\"\n",
    "inputs = tokenizer(text, return_tensors=\"pt\")\n",
    "outputs = model(**inputs)"
   ]
  },
  {
   "cell_type": "code",
   "execution_count": 40,
   "id": "b764642f",
   "metadata": {},
   "outputs": [
    {
     "data": {
      "text/plain": [
       "torch.Size([1, 8, 768])"
      ]
     },
     "execution_count": 40,
     "metadata": {},
     "output_type": "execute_result"
    }
   ],
   "source": [
    "outputs.last_hidden_state.shape"
   ]
  },
  {
   "cell_type": "code",
   "execution_count": 41,
   "id": "14ca3951",
   "metadata": {},
   "outputs": [],
   "source": [
    "sentence_embedding = outputs.last_hidden_state.mean(dim=1)"
   ]
  },
  {
   "cell_type": "code",
   "execution_count": 42,
   "id": "ed61cf2d",
   "metadata": {},
   "outputs": [],
   "source": [
    "def get_emb(text,model,tokenizer):\n",
    "    inputs = tokenizer(text, return_tensors=\"pt\")\n",
    "    with torch.no_grad():\n",
    "        outputs = model(**inputs)\n",
    "    return outputs.last_hidden_state.mean(dim=1)[0].cpu().numpy()\n",
    "    \n",
    "    \n",
    "    "
   ]
  },
  {
   "cell_type": "code",
   "execution_count": 43,
   "id": "10f08205",
   "metadata": {},
   "outputs": [
    {
     "data": {
      "text/plain": [
       "array([ 1.47517279e-01, -3.25547665e-01,  5.43535531e-01,  4.02738422e-01,\n",
       "        4.62552488e-01, -1.13660097e-01, -3.59810591e-01,  7.88311139e-02,\n",
       "       -1.13896549e-01,  3.24519575e-01,  3.12196881e-01, -1.71439089e-02,\n",
       "       -4.66066867e-01, -1.25483602e-01, -1.41383439e-01, -7.31731474e-01,\n",
       "        5.80799401e-01,  2.54285425e-01, -4.98867601e-01,  4.71503168e-01,\n",
       "        1.65193882e-02, -3.70236754e-01, -2.00634509e-01, -5.40546626e-02,\n",
       "       -1.07175991e-01, -5.72677851e-01, -2.71221310e-01,  4.46814358e-01,\n",
       "       -6.57734573e-02,  5.13406396e-01,  5.40662885e-01,  2.93533236e-01,\n",
       "        3.31299067e-01,  6.44026518e-01, -2.00121149e-01,  1.59417670e-02,\n",
       "       -1.29685551e-01,  6.86965108e-01,  6.16120338e-01,  1.96302533e-01,\n",
       "       -3.15302938e-01, -2.03022763e-01, -4.08090860e-01, -1.67041384e-02,\n",
       "        7.45725632e-02, -4.86742437e-01,  2.83446729e-01, -9.79396552e-02,\n",
       "       -4.73419964e-01,  4.09913510e-01, -5.35442591e-01, -2.32862666e-01,\n",
       "        5.08280337e-01, -1.35407373e-01, -3.86112213e-01,  1.49612948e-01,\n",
       "        2.86606073e-01,  3.46147478e-01,  7.88401365e-02,  1.11615539e-01,\n",
       "        7.19660282e-01,  4.55403298e-01, -8.33385289e-02, -5.05372882e-01,\n",
       "       -6.37889266e-01, -6.29878759e-01, -5.85348964e-01,  2.11913452e-01,\n",
       "        2.10770026e-01,  3.28771055e-01,  6.25998229e-02,  1.12198792e-01,\n",
       "        4.53685910e-01,  2.04495102e-01, -2.62070686e-01,  8.84745181e-01,\n",
       "        6.73710942e-01,  5.35604477e-01, -4.86194491e-01, -4.65707153e-01,\n",
       "        2.26899520e-01,  7.72210121e-01, -3.17852736e-01, -2.67312616e-01,\n",
       "       -3.55590612e-01,  3.96814913e-01, -3.91603649e-01, -7.48196542e-01,\n",
       "        4.84535724e-01, -1.48974133e+00, -3.84588182e-01,  3.20679575e-01,\n",
       "        3.42010021e-01,  2.13467687e-01, -3.91836882e-01,  2.77842954e-03,\n",
       "        4.41838473e-01,  2.77598947e-01,  7.61437342e-02,  1.79184154e-01,\n",
       "       -6.38624281e-02,  1.34093732e-01,  1.99698105e-01,  1.40199885e-01,\n",
       "        6.62596285e-01,  1.26549214e-01, -1.05241381e-01, -7.71679878e-02,\n",
       "       -4.31611836e-01,  5.24235547e-01, -1.91943973e-01,  6.73297763e-01,\n",
       "       -7.05415532e-02,  2.14469880e-01, -1.94433883e-01, -4.10371810e-01,\n",
       "       -3.18305194e-01, -4.99102890e-01, -3.16961855e-01, -4.11690116e-01,\n",
       "       -3.60412419e-01, -8.79649296e-02, -1.25004753e-01, -5.42077422e-01,\n",
       "        1.77188650e-01, -4.25350338e-01, -1.25018507e-01, -3.71943980e-01,\n",
       "        7.02637970e-01, -6.62315637e-02, -5.34651995e-01, -8.79418373e-01,\n",
       "       -4.60053802e-01, -1.53147101e-01,  4.71583568e-02, -4.88893867e-01,\n",
       "        4.32739735e-01,  4.80944365e-02, -4.09780145e-01,  2.08603203e-01,\n",
       "        2.03895792e-01,  2.40760595e-01, -6.85399413e-01, -8.16171467e-01,\n",
       "       -4.46939915e-01, -4.79160964e-01, -2.33463705e-01,  2.87424386e-01,\n",
       "       -5.40049672e-01, -4.90946740e-01, -2.34442294e-01, -2.37162113e-01,\n",
       "        2.85889775e-01,  3.46233159e-01, -5.80886006e-01, -4.81900498e-02,\n",
       "        4.71977443e-01, -2.17916012e-01, -2.81447381e-01,  9.05649006e-01,\n",
       "        1.96202919e-01,  1.82764351e-01, -2.31927112e-02,  8.95262718e-01,\n",
       "        5.97432554e-01, -5.94910346e-02, -5.24717450e-01,  6.71583563e-02,\n",
       "       -4.68964428e-02,  1.68598950e-01,  2.36763842e-02,  5.62357068e-01,\n",
       "        1.57066226e-01,  4.94375944e-01, -2.88280606e-01, -4.03221846e-01,\n",
       "       -1.23448752e-01,  5.62662005e-01,  6.46599591e-01,  9.67527181e-02,\n",
       "       -9.63690698e-01, -3.87491107e-01, -1.02155358e-01,  5.82518503e-02,\n",
       "        1.50530692e-02,  4.15432304e-02,  2.51400471e-01,  5.24186075e-01,\n",
       "       -5.86730182e-01,  1.71358660e-01,  7.96428680e-01,  4.38950837e-01,\n",
       "        5.62376559e-01,  2.50883102e-01,  5.77179909e-01,  6.70272052e-01,\n",
       "       -2.21455157e-01,  2.16787964e-01, -1.04983989e-03, -1.42381087e-01,\n",
       "       -2.96732992e-01,  1.02084748e-01, -3.55406880e-01, -2.41179302e-01,\n",
       "       -7.15006292e-02,  4.47615206e-01,  5.82390070e-01, -4.18375582e-01,\n",
       "        2.67488301e-01,  9.77497756e-01,  1.17126573e-02,  5.27186692e-01,\n",
       "        2.07808495e-01,  9.21109617e-02,  2.77727753e-01,  2.08555996e-01,\n",
       "        4.11370844e-01,  7.61044919e-02,  4.12407815e-01,  2.47866899e-01,\n",
       "       -2.44423691e-02,  1.91509172e-01, -1.94998443e-01,  3.18414196e-02,\n",
       "       -2.76459903e-01, -4.08868911e-03,  9.77538675e-02,  2.63134867e-01,\n",
       "        3.12658727e-01, -3.43999714e-01, -6.43598676e-01, -5.18651366e-01,\n",
       "        2.71155201e-02, -2.71914363e-01, -5.85777350e-02,  3.13952528e-02,\n",
       "        5.68623960e-01, -8.14319968e-01, -3.06399971e-01,  1.11722551e-01,\n",
       "       -2.39879161e-01, -1.37514457e-01, -1.29719228e-01,  1.63335517e-01,\n",
       "       -2.06708327e-01,  2.89826334e-01, -2.70813197e-01,  3.55004966e-01,\n",
       "        4.51222599e-01, -8.57177854e-01, -2.94609606e-01,  2.21005321e-01,\n",
       "        6.76213205e-02, -5.19463234e-02, -5.77478707e-01, -2.51977980e-01,\n",
       "       -2.56662183e-02,  2.70455211e-01,  6.98151350e-01,  2.90010661e-01,\n",
       "        3.02211195e-01, -9.33612764e-01, -1.44261062e-01,  1.62955016e-01,\n",
       "        4.61526901e-01,  2.17770100e-01,  1.80980012e-01, -6.40079379e-01,\n",
       "        2.31530875e-01,  3.68371218e-01,  4.80867207e-01,  1.72242433e-01,\n",
       "        6.31285965e-01,  6.38451800e-02, -3.06367595e-02,  3.44860286e-01,\n",
       "       -2.11343765e-01,  4.41071302e-01,  1.85896486e-01,  1.58520833e-01,\n",
       "        5.24453640e-01, -6.91133738e-02, -5.12596846e-01,  1.77478969e-01,\n",
       "        2.83216350e-02,  6.04995340e-03,  6.19034111e-01, -1.58394158e-01,\n",
       "        4.58425879e-01, -9.35730562e-02, -8.21661726e-02, -7.21766800e-03,\n",
       "        5.79309389e-02,  2.86966324e-01,  3.90904635e-01, -1.10002428e-01,\n",
       "        6.87919743e-03, -3.77715409e-01, -2.83978015e-01, -2.83835560e-01,\n",
       "        2.29603097e-01,  6.00989342e-01, -1.48912564e-01, -6.82895780e-02,\n",
       "       -5.12748778e-01,  3.38538349e-01,  6.95206523e-02, -1.44002676e-01,\n",
       "        6.87611401e-01,  2.55024016e-01, -6.74944043e-01, -6.18547201e-03,\n",
       "       -2.87822708e-02, -1.87334418e-01, -3.84328306e-01, -2.59653956e-01,\n",
       "        6.96135342e-01,  6.01885676e-01, -9.23954919e-02,  1.38792187e-01,\n",
       "        1.42770737e-01, -4.60755117e-02,  1.84251428e-01,  1.02321911e+00,\n",
       "       -1.79212600e-01,  4.16889548e-01, -5.07005394e-01, -2.22920254e-01,\n",
       "       -2.26374567e-01, -1.16029985e-01, -2.75533438e-01,  1.26171434e+00,\n",
       "       -4.97696474e-02, -7.13752687e-01, -1.02482684e-01,  2.46541858e-01,\n",
       "       -5.66084743e-01, -1.36498943e-01, -3.04502189e-01, -3.41095448e-01,\n",
       "       -1.12178303e-01, -5.18478036e-01,  6.37416601e-01, -4.03458506e-01,\n",
       "        6.11059189e-01, -1.45592708e-02, -6.92612305e-02, -3.00823241e-01,\n",
       "       -2.17286304e-01, -4.60189164e-01,  3.65433782e-01,  2.21606418e-01,\n",
       "        2.34301329e-01,  5.94363868e-01, -1.95120797e-01,  5.74678957e-01,\n",
       "       -8.66243392e-02, -2.99254447e-01,  3.93215954e-01,  1.19262420e-01,\n",
       "        2.13787600e-01, -2.50104785e-01,  5.87731361e-01, -3.47704947e-01,\n",
       "       -5.47105312e-01, -7.37952471e-01, -4.21137601e-01, -6.44289970e-01,\n",
       "        1.07731596e-01,  5.59641302e-01,  3.33689749e-01,  9.36773062e-01,\n",
       "       -7.85259828e-02, -6.29857481e-01, -1.86284781e-01,  1.37059808e-01,\n",
       "        5.58531761e-01, -8.65038633e-01,  7.08540559e-01, -4.39043075e-01,\n",
       "        5.69966018e-01, -4.71741930e-02, -8.64515454e-03,  2.43207723e-01,\n",
       "       -5.89731574e-01, -2.71792233e-01,  8.62902924e-02,  2.69176990e-01,\n",
       "       -5.29294908e-01, -3.49001028e-02,  7.12031201e-02, -1.01526566e-01,\n",
       "        2.31952444e-01,  6.07380211e-01, -4.28905711e-03,  5.72280228e-01,\n",
       "       -9.11393110e-03, -3.22205275e-02,  6.44548297e-01,  1.80248633e-01,\n",
       "        5.95074072e-02,  2.27009282e-01,  2.05624044e-01,  2.11926952e-01,\n",
       "       -3.13716710e-01, -2.50789344e-01,  2.78523088e-01, -1.09482206e-01,\n",
       "       -1.13188103e-01, -4.49909955e-01,  9.14273411e-02, -1.79350749e-02,\n",
       "        6.87030077e-01,  2.69964784e-01, -1.72718614e-01,  5.55700183e-01,\n",
       "       -8.45092237e-01,  2.89286643e-01,  3.11673194e-01,  1.35531783e-01,\n",
       "        1.91778481e-01, -2.14911520e-01,  2.02552944e-01, -6.16149306e-01,\n",
       "       -4.64898378e-01, -5.40828943e-01,  1.66598365e-01,  2.27493763e-01,\n",
       "        3.37054670e-01, -1.16565339e-01, -9.84568000e-02,  1.19912624e-02,\n",
       "        3.30401868e-01, -1.92281514e-01, -7.74908483e-01,  2.06998736e-01,\n",
       "        3.10309649e-01,  2.43950859e-01, -4.46780562e-01,  2.12187365e-01,\n",
       "        7.67170072e-01, -2.59975880e-01, -4.04309779e-02, -7.65382573e-02,\n",
       "       -4.49595451e-01,  3.62707913e-01, -3.47000301e-01, -8.24497342e-02,\n",
       "       -3.27405214e-01,  1.02364480e-01, -2.44139761e-01, -5.48119783e-01,\n",
       "       -3.00070822e-01, -2.84303308e-01, -2.22540542e-01, -6.24124408e-02,\n",
       "       -8.81816983e-01,  5.41037560e-01,  2.15075403e-01, -3.89725715e-01,\n",
       "       -4.35692593e-02,  6.11143589e-01,  1.51378382e-02,  3.57627064e-01,\n",
       "       -4.65256214e-01, -2.43092045e-01, -2.48287261e-01,  3.34320813e-02,\n",
       "        8.29426229e-01,  7.71263003e-01, -5.06910741e-01, -3.50481756e-02,\n",
       "       -3.32294032e-03, -7.16785043e-02, -3.98698032e-01,  5.14812052e-01,\n",
       "        1.99152008e-01, -1.79342609e-02, -2.95947492e-01, -1.72933683e-01,\n",
       "       -4.94646281e-02,  5.01539886e-01,  3.92624259e-01, -1.75035030e-01,\n",
       "       -3.39296758e-01, -5.32478094e-02,  4.18766111e-01, -3.18891466e-01,\n",
       "       -6.28456056e-01,  3.68171006e-01,  2.16242656e-01, -4.92557555e-01,\n",
       "       -3.88860404e-01, -3.78035009e-01, -1.90170184e-01,  3.90562117e-01,\n",
       "        8.60228002e-01,  7.84028620e-02, -5.95472097e-01,  2.08930001e-01,\n",
       "        1.95656747e-01,  2.67464876e-01, -3.06865722e-01,  5.45162320e-01,\n",
       "       -7.83511162e-01, -1.33380666e-01, -3.08963716e-01, -1.83843486e-02,\n",
       "       -1.49292916e-01, -2.41607934e-01,  3.31306875e-01, -6.55660748e-01,\n",
       "        6.09848559e-01, -6.57298803e-01, -1.92019820e-01, -9.74052027e-03,\n",
       "       -3.65000129e-01,  1.61504060e-01, -1.17008895e-01,  7.78328240e-01,\n",
       "       -3.63379270e-01,  2.52158135e-01, -4.75177914e-02, -5.66886544e-01,\n",
       "       -4.83064502e-01,  1.47449300e-01, -5.20229042e-01, -9.12957549e-01,\n",
       "       -1.10302515e-01,  3.39547306e-01, -5.18178105e-01, -1.29138008e-01,\n",
       "       -2.82985568e-01, -1.08383484e-02,  5.53122520e-01, -1.45346090e-01,\n",
       "        5.28956294e-01,  2.63529480e-01, -3.91387165e-01, -2.50390545e-02,\n",
       "        2.11402223e-01, -8.91389549e-02, -1.80491820e-01,  3.91728103e-01,\n",
       "        2.42822170e-01,  3.53402734e-01,  1.19611971e-01, -3.98822501e-03,\n",
       "        1.45938605e-01, -2.75061280e-01, -2.21678615e-03, -3.07614118e-01,\n",
       "       -7.15608150e-02, -2.92330295e-01, -2.07235679e-01,  4.18733135e-02,\n",
       "       -4.49812889e-01, -1.13462731e-01, -3.05562615e-01,  2.00830936e-01,\n",
       "       -1.45822465e-01,  1.16564453e-01, -4.51689661e-01, -2.20297396e-01,\n",
       "        3.37690026e-01, -5.41907966e-01, -4.51210111e-01,  1.67214334e-01,\n",
       "       -1.84546486e-01,  1.99187025e-01,  1.06779858e-02,  6.29848599e-01,\n",
       "       -5.34296371e-02,  3.20445001e-01,  1.95307359e-01,  3.43628377e-01,\n",
       "       -3.41751516e-01, -8.21484745e-01, -2.21181989e-01, -4.86068070e-01,\n",
       "       -1.73071414e-01, -2.09536940e-01,  3.60063046e-01,  1.39467284e-01,\n",
       "       -3.70295823e-01, -1.93240717e-01,  3.38147730e-01,  7.26751387e-01,\n",
       "       -5.21586657e-01, -7.64544249e-01, -2.27230072e-01,  2.59819299e-01,\n",
       "       -4.41048920e-01, -4.33089674e-01, -3.39815579e-02,  1.12053610e-01,\n",
       "        5.91794312e-01, -5.49797893e-01,  7.39202797e-02, -2.41675258e-01,\n",
       "        3.49429846e-01, -7.89887667e-01,  7.89323300e-02, -5.80279708e-01,\n",
       "        6.11923933e-02,  7.58273542e-01,  6.22212291e-01, -9.86932218e-02,\n",
       "       -1.01974332e+00,  3.77793014e-01,  1.67075545e-04,  1.57752857e-01,\n",
       "       -2.07252786e-01, -1.33341610e-01, -1.48373291e-01, -4.15508270e-01,\n",
       "       -3.09101760e-01, -9.83522385e-02,  3.32020968e-02,  1.32717788e-01,\n",
       "        3.35797310e-01,  7.74014950e-01, -4.33083624e-01, -7.51266479e-01,\n",
       "       -1.42209172e-01, -1.06598407e-01, -5.89510351e-02, -4.55598503e-01,\n",
       "        3.09202731e-01, -6.58477008e-01, -4.15692806e-01, -5.44671416e-01,\n",
       "        4.65672135e-01, -7.00129010e-03,  1.87694639e-01,  3.01994860e-01,\n",
       "        2.27453336e-01, -3.91917348e-01, -4.46945280e-02, -6.43875241e-01,\n",
       "       -3.42565566e-01, -4.02504534e-01, -2.35277042e-01, -7.00006127e-01,\n",
       "       -3.80645663e-01, -8.61771882e-01, -1.81176543e-01,  7.35017508e-02,\n",
       "        6.97106197e-02,  3.05966645e-01,  1.04260218e+00, -2.53335476e-01,\n",
       "        3.13610613e-01, -1.32470369e-01,  4.41151075e-02,  7.54148066e-01,\n",
       "       -3.10345590e-02, -1.52114898e-01, -6.72561228e-02,  6.50515497e-01,\n",
       "        3.19737136e-01,  1.95311874e-01,  7.21292794e-01, -3.01610678e-01,\n",
       "       -2.91741818e-01,  1.75685138e-01, -1.78241968e-01,  2.24007353e-01,\n",
       "        2.49811575e-01,  2.52263188e-01,  1.49440601e-01, -4.68652189e-01,\n",
       "        4.16531086e-01, -7.63501003e-02, -2.18549550e-01, -2.47207686e-01,\n",
       "        1.17319219e-01,  3.85047406e-01,  3.48515242e-01, -2.71222919e-01,\n",
       "       -1.68438643e-01,  2.39361763e-01,  7.75987864e-01, -3.78195584e-01,\n",
       "        8.15127045e-02,  3.21250737e-01,  2.06137612e-01,  2.82706469e-02,\n",
       "        5.19664049e-01,  8.40545297e-01,  3.95338833e-01,  4.42409456e-01,\n",
       "        4.64165419e-01,  3.67422104e-02,  2.90736228e-01, -1.42382458e-01,\n",
       "       -4.98501584e-02,  8.10199976e-01, -9.11316350e-02, -3.73986602e-01,\n",
       "       -3.06473583e-01, -7.15411663e-01, -2.40703866e-01,  2.07745910e-01,\n",
       "       -3.23201448e-01,  4.88797650e-02,  3.72528225e-01,  8.50432366e-02,\n",
       "       -5.19772112e-01,  2.39424035e-02,  3.70896280e-01, -1.54369976e-03,\n",
       "       -3.81850302e-01, -5.25397778e-01,  1.58866376e-01,  5.34162462e-01,\n",
       "        1.22497268e-01, -2.77699858e-01, -1.21444464e-06,  2.87827939e-01,\n",
       "        2.66713291e-01,  7.52337575e-01, -2.13629901e-01,  3.67408097e-01,\n",
       "       -3.70724261e-01,  6.11036241e-01,  1.63019627e-01,  3.50702316e-01,\n",
       "       -5.53833485e-01,  1.85608238e-01, -1.81504562e-01, -1.43352091e+00,\n",
       "       -1.67558327e-01,  4.27161753e-01, -7.68940151e-03, -3.23514074e-01,\n",
       "        7.06717789e-01,  5.22573769e-01, -9.49753374e-02, -1.38047189e-01,\n",
       "       -2.19964728e-01, -1.85751781e-01, -2.29587600e-01, -4.15543258e-01,\n",
       "        2.24708933e-02, -5.45774877e-01, -2.09371075e-01,  1.83681935e-01,\n",
       "        3.42694849e-01, -5.66039205e-01, -1.03349134e-01, -3.56556058e-01,\n",
       "       -9.18970555e-02,  8.90297294e-02, -1.39319956e-01,  6.87197745e-02,\n",
       "       -2.87459463e-01,  2.03739420e-01,  2.87271202e-01, -1.12345330e-02,\n",
       "       -8.00415516e-01, -1.04125047e+00,  1.15089454e-01,  4.50734138e-01,\n",
       "        2.28823632e-01,  6.01482987e-01,  6.47215545e-03, -2.21921369e-01],\n",
       "      dtype=float32)"
      ]
     },
     "execution_count": 43,
     "metadata": {},
     "output_type": "execute_result"
    }
   ],
   "source": [
    "get_emb(text,model,tokenizer)"
   ]
  },
  {
   "cell_type": "code",
   "execution_count": null,
   "id": "96870372",
   "metadata": {},
   "outputs": [],
   "source": [
    "train['clean_title'].apply(lambda x:get_emb(x,model,tokenizer))"
   ]
  },
  {
   "cell_type": "code",
   "execution_count": 142,
   "id": "4fd3ed08",
   "metadata": {},
   "outputs": [
    {
     "data": {
      "text/plain": [
       "ID\n",
       "0    [tensor(-0.1679, grad_fn=<UnbindBackward0>), t...\n",
       "Name: clean_title, dtype: object"
      ]
     },
     "execution_count": 142,
     "metadata": {},
     "output_type": "execute_result"
    }
   ],
   "source": [
    "train.loc[:0,'clean_title'].apply(lambda x:get_emb(x,model,tokenizer))"
   ]
  },
  {
   "cell_type": "code",
   "execution_count": null,
   "id": "8e41e768",
   "metadata": {},
   "outputs": [],
   "source": []
  }
 ],
 "metadata": {
  "kernelspec": {
   "display_name": "Python 3 (ipykernel)",
   "language": "python",
   "name": "python3"
  },
  "language_info": {
   "codemirror_mode": {
    "name": "ipython",
    "version": 3
   },
   "file_extension": ".py",
   "mimetype": "text/x-python",
   "name": "python",
   "nbconvert_exporter": "python",
   "pygments_lexer": "ipython3",
   "version": "3.11.5"
  }
 },
 "nbformat": 4,
 "nbformat_minor": 5
}
