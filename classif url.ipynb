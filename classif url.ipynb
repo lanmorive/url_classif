{
 "cells": [
  {
   "cell_type": "code",
   "execution_count": 270,
   "id": "93ccdcea",
   "metadata": {},
   "outputs": [
    {
     "name": "stderr",
     "output_type": "stream",
     "text": [
      "[nltk_data] Downloading package stopwords to\n",
      "[nltk_data]     C:\\Users\\lanmo\\AppData\\Roaming\\nltk_data...\n",
      "[nltk_data]   Package stopwords is already up-to-date!\n"
     ]
    },
    {
     "data": {
      "text/plain": [
       "True"
      ]
     },
     "execution_count": 270,
     "metadata": {},
     "output_type": "execute_result"
    }
   ],
   "source": [
    "import pandas as pd\n",
    "import torch\n",
    "import tldextract\n",
    "import seaborn as sns\n",
    "import matplotlib.pyplot as plt\n",
    "from nltk.corpus import stopwords\n",
    "import nltk\n",
    "import re\n",
    "import numpy as np\n",
    "from gensim.models import FastText\n",
    "from sklearn.metrics import precision_recall_curve, f1_score,roc_auc_score,confusion_matrix\n",
    "from gensim.models import FastText\n",
    "from catboost import CatBoostClassifier\n",
    "from sklearn.model_selection import train_test_split\n",
    "from sklearn.ensemble import RandomForestClassifier\n",
    "import string\n",
    "import random\n",
    "import warnings\n",
    "import optuna\n",
    "warnings.filterwarnings('ignore')\n",
    "random.seed(123)\n",
    "nltk.download('stopwords')"
   ]
  },
  {
   "cell_type": "code",
   "execution_count": 271,
   "id": "692ab932",
   "metadata": {},
   "outputs": [],
   "source": [
    "stop_words_en = set(stopwords.words(\"english\"))\n",
    "stop_words_ru = set(stopwords.words(\"russian\"))\n",
    "stop_words = stop_words_en | stop_words_ru"
   ]
  },
  {
   "cell_type": "code",
   "execution_count": 272,
   "id": "d22f4cae",
   "metadata": {},
   "outputs": [],
   "source": [
    "train = pd.read_csv(r'train_data.csv',index_col = 0)\n",
    "test = pd.read_csv(r'test_data.csv',index_col = 0)"
   ]
  },
  {
   "cell_type": "code",
   "execution_count": 273,
   "id": "faf5ce4d",
   "metadata": {},
   "outputs": [
    {
     "data": {
      "text/plain": [
       "url      0\n",
       "title    1\n",
       "label    0\n",
       "dtype: int64"
      ]
     },
     "execution_count": 273,
     "metadata": {},
     "output_type": "execute_result"
    }
   ],
   "source": [
    "train.isna().sum()"
   ]
  },
  {
   "cell_type": "code",
   "execution_count": 274,
   "id": "70e77a12",
   "metadata": {},
   "outputs": [
    {
     "data": {
      "text/plain": [
       "url      0\n",
       "title    0\n",
       "dtype: int64"
      ]
     },
     "execution_count": 274,
     "metadata": {},
     "output_type": "execute_result"
    }
   ],
   "source": [
    "test.isna().sum()"
   ]
  },
  {
   "cell_type": "code",
   "execution_count": 275,
   "id": "135ef534",
   "metadata": {},
   "outputs": [
    {
     "data": {
      "text/html": [
       "<div>\n",
       "<style scoped>\n",
       "    .dataframe tbody tr th:only-of-type {\n",
       "        vertical-align: middle;\n",
       "    }\n",
       "\n",
       "    .dataframe tbody tr th {\n",
       "        vertical-align: top;\n",
       "    }\n",
       "\n",
       "    .dataframe thead th {\n",
       "        text-align: right;\n",
       "    }\n",
       "</style>\n",
       "<table border=\"1\" class=\"dataframe\">\n",
       "  <thead>\n",
       "    <tr style=\"text-align: right;\">\n",
       "      <th></th>\n",
       "      <th>url</th>\n",
       "      <th>title</th>\n",
       "      <th>label</th>\n",
       "    </tr>\n",
       "    <tr>\n",
       "      <th>ID</th>\n",
       "      <th></th>\n",
       "      <th></th>\n",
       "      <th></th>\n",
       "    </tr>\n",
       "  </thead>\n",
       "  <tbody>\n",
       "    <tr>\n",
       "      <th>78497</th>\n",
       "      <td>jpg-1.com</td>\n",
       "      <td>NaN</td>\n",
       "      <td>0</td>\n",
       "    </tr>\n",
       "  </tbody>\n",
       "</table>\n",
       "</div>"
      ],
      "text/plain": [
       "             url title  label\n",
       "ID                           \n",
       "78497  jpg-1.com   NaN      0"
      ]
     },
     "execution_count": 275,
     "metadata": {},
     "output_type": "execute_result"
    }
   ],
   "source": [
    "train[train['title'].isna()]"
   ]
  },
  {
   "cell_type": "code",
   "execution_count": 276,
   "id": "510702f4",
   "metadata": {},
   "outputs": [],
   "source": [
    "train.dropna(inplace = True)"
   ]
  },
  {
   "cell_type": "markdown",
   "id": "652dde84",
   "metadata": {},
   "source": [
    "# Чекним дизбаланс классов"
   ]
  },
  {
   "cell_type": "code",
   "execution_count": 277,
   "id": "26b544b6",
   "metadata": {},
   "outputs": [
    {
     "data": {
      "text/plain": [
       "label\n",
       "0    87.646702\n",
       "1    12.353298\n",
       "Name: count, dtype: float64"
      ]
     },
     "execution_count": 277,
     "metadata": {},
     "output_type": "execute_result"
    }
   ],
   "source": [
    "train['label'].value_counts()/train.shape[0] * 100"
   ]
  },
  {
   "cell_type": "markdown",
   "id": "100c03a2",
   "metadata": {},
   "source": [
    "Есть большой дизбаланс классов и с этим нужно будет что-то делать"
   ]
  },
  {
   "cell_type": "markdown",
   "id": "faba8e33",
   "metadata": {},
   "source": [
    "# Обработаем данные\n",
    "## Буду отдельно обрабатывать url и title"
   ]
  },
  {
   "cell_type": "code",
   "execution_count": 278,
   "id": "46ed81e3",
   "metadata": {},
   "outputs": [],
   "source": [
    "def get_clean_url(text):\n",
    "    domain = tldextract.extract(text).domain\n",
    "    if domain == '':\n",
    "        domain = 'domains'\n",
    "    return domain"
   ]
  },
  {
   "cell_type": "code",
   "execution_count": 279,
   "id": "38732fea",
   "metadata": {},
   "outputs": [],
   "source": [
    "def remove_punctuation(text):\n",
    "    translation_table = str.maketrans(string.punctuation, ' ' * len(string.punctuation))\n",
    "    cleaned_text = text.translate(translation_table)\n",
    "    return cleaned_text"
   ]
  },
  {
   "cell_type": "code",
   "execution_count": 280,
   "id": "145bb27b",
   "metadata": {},
   "outputs": [],
   "source": [
    "def clean_data(text):\n",
    "    text = text.lower()\n",
    "    text = remove_punctuation(text)\n",
    "    text = re.sub(r\"\\d+\", \" \",text)\n",
    "    spec = []\n",
    "    for tex in text.split():\n",
    "        if tex not in stop_words and tex not in string.punctuation + '—':\n",
    "            spec.append(tex)\n",
    "    return ' '.join(spec)"
   ]
  },
  {
   "cell_type": "code",
   "execution_count": 281,
   "id": "483067d0",
   "metadata": {},
   "outputs": [],
   "source": [
    "def sentence_to_vector(sentence, model):\n",
    "    words = sentence.split()\n",
    "    word_vectors = [model.wv[word] for word in words if word in model.wv]\n",
    "    if len(word_vectors) > 0:\n",
    "        return np.mean(word_vectors, axis=0)\n",
    "    else:\n",
    "        return np.zeros(model.vector_size)"
   ]
  },
  {
   "cell_type": "code",
   "execution_count": 282,
   "id": "6ad8195d",
   "metadata": {},
   "outputs": [],
   "source": [
    "def sentence_to_vector(sentence, model):\n",
    "    words = sentence.split()\n",
    "    word_vectors = [model.wv[word] for word in words if word in model.wv]\n",
    "    if len(word_vectors) > 0:\n",
    "        return np.mean(word_vectors, axis=0)\n",
    "    else:\n",
    "        return np.zeros(model.vector_size)"
   ]
  },
  {
   "cell_type": "code",
   "execution_count": 283,
   "id": "b7aba03b",
   "metadata": {},
   "outputs": [],
   "source": [
    "def get_best_tresh(y_test,y_prob):\n",
    "    precision, recall, thresholds = precision_recall_curve(y_test, y_prob)\n",
    "    f1_scores = 2 * (precision * recall) / (precision + recall)\n",
    "    best_threshold = thresholds[np.argmax(f1_scores)]\n",
    "    print(f\"Best Threshold: {best_threshold}\")\n",
    "    print(f\"Best F1-Score: {np.max(f1_scores)}\")\n",
    "    return best_threshold"
   ]
  },
  {
   "cell_type": "code",
   "execution_count": 284,
   "id": "ad69f8c7",
   "metadata": {},
   "outputs": [],
   "source": [
    "#Объединяем\n",
    "full = pd.concat([train,test],axis = 0)"
   ]
  },
  {
   "cell_type": "code",
   "execution_count": 285,
   "id": "6b727561",
   "metadata": {},
   "outputs": [],
   "source": [
    "full['url_clean'] = full['url'].apply(lambda x: remove_punctuation(get_clean_url(x))) #Очищаем url\n",
    "full['clean_title'] = full['title'].apply(clean_data) # Очищаем текст\n",
    "full.drop(['url','title'],axis = 1,inplace = True) #Удаляем оригиналы"
   ]
  },
  {
   "cell_type": "code",
   "execution_count": 286,
   "id": "40df0c2b",
   "metadata": {},
   "outputs": [],
   "source": [
    "#Преобразовываем в вектор\n",
    "sentenses_url = full['url_clean'].apply(lambda x: x.split()).to_list() \n",
    "sentenses_title = full['clean_title'].apply(lambda x: x.split()).to_list() "
   ]
  },
  {
   "cell_type": "code",
   "execution_count": 314,
   "id": "0919676a",
   "metadata": {},
   "outputs": [],
   "source": [
    "#Обучаем fasttext\n",
    "model1 = FastText(sentenses_url,vector_size=250, window=1, min_count=1, epochs=20)\n",
    "model2 = FastText(sentenses_title,vector_size=250, window=3, min_count=1, epochs=20)"
   ]
  },
  {
   "cell_type": "code",
   "execution_count": 315,
   "id": "877db79c",
   "metadata": {},
   "outputs": [],
   "source": [
    "full.loc[:, 'vector_url'] = full['url_clean'].apply(lambda x: sentence_to_vector(x, model1))"
   ]
  },
  {
   "cell_type": "code",
   "execution_count": 316,
   "id": "ed27ae58",
   "metadata": {},
   "outputs": [],
   "source": [
    "full.loc[:, 'vector_tittle'] = full['clean_title'].apply(lambda x: sentence_to_vector(x, model2))"
   ]
  },
  {
   "cell_type": "code",
   "execution_count": 317,
   "id": "0f4a9735",
   "metadata": {},
   "outputs": [
    {
     "data": {
      "text/plain": [
       "[('porndoporn', 0.9977558255195618),\n",
       " ('bdsmporn', 0.9975000023841858),\n",
       " ('porncorn', 0.9973911046981812),\n",
       " ('upporn', 0.9973168969154358),\n",
       " ('myporn', 0.9971817135810852),\n",
       " ('nfporn', 0.9969819188117981),\n",
       " ('porndorn', 0.9969692230224609),\n",
       " ('mdhporn', 0.9969276785850525),\n",
       " ('k2porn', 0.9969239830970764),\n",
       " ('fhdporn', 0.9968552589416504)]"
      ]
     },
     "execution_count": 317,
     "metadata": {},
     "output_type": "execute_result"
    }
   ],
   "source": [
    "model1.wv.most_similar('porn',topn=10)"
   ]
  },
  {
   "cell_type": "code",
   "execution_count": 318,
   "id": "6d4dbb8b",
   "metadata": {},
   "outputs": [
    {
     "data": {
      "text/plain": [
       "[('sexmex', 0.9569888114929199),\n",
       " ('nxsex', 0.9487061500549316),\n",
       " ('スポコス汗だくsex', 0.9460588693618774),\n",
       " ('ガクブル露出sex', 0.9449674487113953),\n",
       " ('cxcxsex', 0.9448282718658447),\n",
       " ('ryhmдsex', 0.9388653635978699),\n",
       " ('bysex', 0.9385769963264465),\n",
       " ('yupsex', 0.9362478256225586),\n",
       " ('twixsex', 0.9273706078529358),\n",
       " ('セクシー美人の腰フリ主観sex', 0.9257761836051941)]"
      ]
     },
     "execution_count": 318,
     "metadata": {},
     "output_type": "execute_result"
    }
   ],
   "source": [
    "model2.wv.most_similar('sex',topn=10)"
   ]
  },
  {
   "cell_type": "code",
   "execution_count": 319,
   "id": "c91ac06c",
   "metadata": {},
   "outputs": [
    {
     "data": {
      "text/plain": [
       "label            161270\n",
       "url_clean             0\n",
       "clean_title           0\n",
       "vector_url            0\n",
       "vector_tittle         0\n",
       "dtype: int64"
      ]
     },
     "execution_count": 319,
     "metadata": {},
     "output_type": "execute_result"
    }
   ],
   "source": [
    "full.isna().sum()"
   ]
  },
  {
   "cell_type": "code",
   "execution_count": 320,
   "id": "7e47f952",
   "metadata": {},
   "outputs": [],
   "source": [
    "train = full.dropna()\n",
    "test = full[full['label'].isna()].drop('label',axis = 1)"
   ]
  },
  {
   "cell_type": "markdown",
   "id": "87af8828",
   "metadata": {},
   "source": [
    "# Для url"
   ]
  },
  {
   "cell_type": "code",
   "execution_count": 321,
   "id": "d007a7e0",
   "metadata": {},
   "outputs": [
    {
     "name": "stdout",
     "output_type": "stream",
     "text": [
      "135308 135308\n"
     ]
    }
   ],
   "source": [
    "X = train.drop(['label'],axis = 1)\n",
    "y = train['label']\n",
    "print(len(X),len(y))"
   ]
  },
  {
   "cell_type": "code",
   "execution_count": 322,
   "id": "60b7ef8a",
   "metadata": {},
   "outputs": [],
   "source": [
    "X_train,X_test,y_train,y_test = train_test_split(X,y,stratify=y,test_size=0.2,shuffle=True)"
   ]
  },
  {
   "cell_type": "code",
   "execution_count": 323,
   "id": "965e7c63",
   "metadata": {},
   "outputs": [],
   "source": [
    "X_train_url= np.vstack(X_train['vector_url'].values)\n",
    "X_test_url = np.vstack(X_test['vector_url'].values)"
   ]
  },
  {
   "cell_type": "code",
   "execution_count": 324,
   "id": "84c7fb2e",
   "metadata": {},
   "outputs": [],
   "source": [
    "cat1 = CatBoostClassifier(\n",
    "    iterations=400,\n",
    "    learning_rate=0.1,\n",
    "    depth=6,\n",
    "    eval_metric='AUC',  # Указываем метрику ROC-AUC\n",
    "    verbose=50  # Уровень детализации вывода\n",
    ")"
   ]
  },
  {
   "cell_type": "code",
   "execution_count": 325,
   "id": "326e2825",
   "metadata": {},
   "outputs": [
    {
     "data": {
      "application/vnd.jupyter.widget-view+json": {
       "model_id": "ccd222a0f7b249b99bc81369ab961b5a",
       "version_major": 2,
       "version_minor": 0
      },
      "text/plain": [
       "MetricVisualizer(layout=Layout(align_self='stretch', height='500px'))"
      ]
     },
     "metadata": {},
     "output_type": "display_data"
    },
    {
     "name": "stdout",
     "output_type": "stream",
     "text": [
      "0:\ttest: 0.8345353\tbest: 0.8345353 (0)\ttotal: 173ms\tremaining: 1m 8s\n",
      "50:\ttest: 0.9390158\tbest: 0.9390158 (50)\ttotal: 6.13s\tremaining: 41.9s\n",
      "100:\ttest: 0.9553399\tbest: 0.9553399 (100)\ttotal: 11.4s\tremaining: 33.9s\n",
      "150:\ttest: 0.9635581\tbest: 0.9635581 (150)\ttotal: 16.9s\tremaining: 27.9s\n",
      "200:\ttest: 0.9673248\tbest: 0.9673248 (200)\ttotal: 22s\tremaining: 21.7s\n",
      "250:\ttest: 0.9705588\tbest: 0.9705588 (250)\ttotal: 27s\tremaining: 16s\n",
      "300:\ttest: 0.9729333\tbest: 0.9729333 (300)\ttotal: 32.1s\tremaining: 10.6s\n",
      "350:\ttest: 0.9746141\tbest: 0.9746141 (350)\ttotal: 37.6s\tremaining: 5.25s\n",
      "399:\ttest: 0.9757394\tbest: 0.9757394 (399)\ttotal: 42.7s\tremaining: 0us\n",
      "\n",
      "bestTest = 0.97573945\n",
      "bestIteration = 399\n",
      "\n"
     ]
    },
    {
     "data": {
      "text/plain": [
       "<catboost.core.CatBoostClassifier at 0x1fa5e4b6150>"
      ]
     },
     "execution_count": 325,
     "metadata": {},
     "output_type": "execute_result"
    }
   ],
   "source": [
    "cat1.fit(\n",
    "    X_train_url, y_train,\n",
    "    eval_set=(X_test_url, y_test),\n",
    "    plot=True\n",
    ")\n"
   ]
  },
  {
   "cell_type": "code",
   "execution_count": 326,
   "id": "4e9f109f",
   "metadata": {},
   "outputs": [],
   "source": [
    "y_pred_proba = cat1.predict_proba(X_test_url)[:,1]\n",
    "y_pred = cat1.predict(X_test_url)"
   ]
  },
  {
   "cell_type": "code",
   "execution_count": 327,
   "id": "d81523a7",
   "metadata": {},
   "outputs": [
    {
     "name": "stdout",
     "output_type": "stream",
     "text": [
      "f1: 0.8910569105691059\n",
      "roc_auc = 0.9757394499919204\n"
     ]
    }
   ],
   "source": [
    "print(f'f1: {f1_score(y_test,y_pred)}')\n",
    "print(f'roc_auc = {roc_auc_score(y_test,y_pred_proba)}')"
   ]
  },
  {
   "cell_type": "code",
   "execution_count": 328,
   "id": "d41b071c",
   "metadata": {},
   "outputs": [
    {
     "name": "stdout",
     "output_type": "stream",
     "text": [
      "Best Threshold: 0.2732880597111533\n",
      "Best F1-Score: 0.9008560311284046\n"
     ]
    }
   ],
   "source": [
    "best_threshold = get_best_tresh(y_test,y_pred_proba)"
   ]
  },
  {
   "cell_type": "code",
   "execution_count": 329,
   "id": "1659b2b2",
   "metadata": {},
   "outputs": [
    {
     "data": {
      "image/png": "[encoded data removed]",
      "text/plain": [
       "<Figure size 640x480 with 2 Axes>"
      ]
     },
     "metadata": {},
     "output_type": "display_data"
    }
   ],
   "source": [
    "y_pred = (y_pred_proba > best_threshold).astype(int)\n",
    "sns.heatmap(confusion_matrix(y_test, y_pred), annot=True, fmt='d', cmap='Blues', xticklabels=['0', '1'], yticklabels=['0', '1'])\n",
    "plt.xlabel('Предсказанный класс')\n",
    "plt.ylabel('Реальный класс')\n",
    "plt.title('Матрица ошибок')\n",
    "plt.show()"
   ]
  },
  {
   "cell_type": "markdown",
   "id": "4b089a06",
   "metadata": {},
   "source": [
    "# Для title"
   ]
  },
  {
   "cell_type": "code",
   "execution_count": 330,
   "id": "189a5b4b",
   "metadata": {},
   "outputs": [],
   "source": [
    "X_train_title= np.vstack(X_train['vector_tittle'].values)\n",
    "X_test_title = np.vstack(X_test['vector_tittle'].values)"
   ]
  },
  {
   "cell_type": "code",
   "execution_count": 331,
   "id": "571f429b",
   "metadata": {},
   "outputs": [],
   "source": [
    "cat2 = CatBoostClassifier(\n",
    "    iterations=400,\n",
    "    learning_rate=0.1,\n",
    "    depth=6,\n",
    "    eval_metric='AUC',  # Указываем метрику ROC-AUC\n",
    "    verbose=50  # Уровень детализации вывода\n",
    ")"
   ]
  },
  {
   "cell_type": "code",
   "execution_count": 332,
   "id": "8aafb96d",
   "metadata": {},
   "outputs": [
    {
     "data": {
      "application/vnd.jupyter.widget-view+json": {
       "model_id": "60e5620a1a92496c9e589c1bdc7512ea",
       "version_major": 2,
       "version_minor": 0
      },
      "text/plain": [
       "MetricVisualizer(layout=Layout(align_self='stretch', height='500px'))"
      ]
     },
     "metadata": {},
     "output_type": "display_data"
    },
    {
     "name": "stdout",
     "output_type": "stream",
     "text": [
      "0:\ttest: 0.9669067\tbest: 0.9669067 (0)\ttotal: 118ms\tremaining: 47.1s\n",
      "50:\ttest: 0.9939564\tbest: 0.9939564 (50)\ttotal: 5.36s\tremaining: 36.7s\n",
      "100:\ttest: 0.9949086\tbest: 0.9949086 (100)\ttotal: 10.2s\tremaining: 30.3s\n",
      "150:\ttest: 0.9953325\tbest: 0.9953348 (145)\ttotal: 15s\tremaining: 24.8s\n",
      "200:\ttest: 0.9956223\tbest: 0.9956242 (198)\ttotal: 20.4s\tremaining: 20.2s\n",
      "250:\ttest: 0.9957817\tbest: 0.9957844 (249)\ttotal: 25.5s\tremaining: 15.1s\n",
      "300:\ttest: 0.9958563\tbest: 0.9958709 (297)\ttotal: 30.9s\tremaining: 10.1s\n",
      "350:\ttest: 0.9959237\tbest: 0.9959263 (349)\ttotal: 35.8s\tremaining: 5s\n",
      "399:\ttest: 0.9959607\tbest: 0.9959607 (399)\ttotal: 40.7s\tremaining: 0us\n",
      "\n",
      "bestTest = 0.9959607273\n",
      "bestIteration = 399\n",
      "\n"
     ]
    },
    {
     "data": {
      "text/plain": [
       "<catboost.core.CatBoostClassifier at 0x1fa6174c790>"
      ]
     },
     "execution_count": 332,
     "metadata": {},
     "output_type": "execute_result"
    }
   ],
   "source": [
    "cat2.fit(\n",
    "    X_train_title, y_train,\n",
    "    eval_set=(X_test_title, y_test),\n",
    "    plot=True\n",
    ")\n"
   ]
  },
  {
   "cell_type": "code",
   "execution_count": 333,
   "id": "8eb30b77",
   "metadata": {},
   "outputs": [],
   "source": [
    "y_pred_proba = cat2.predict_proba(X_test_title)[:,1]\n",
    "y_pred = cat2.predict(X_test_title)"
   ]
  },
  {
   "cell_type": "code",
   "execution_count": 334,
   "id": "9c96306a",
   "metadata": {},
   "outputs": [
    {
     "name": "stdout",
     "output_type": "stream",
     "text": [
      "Best Threshold: 0.38212447747636846\n",
      "Best F1-Score: 0.9512269009391093\n"
     ]
    }
   ],
   "source": [
    "best_threshold = get_best_tresh(y_test,y_pred_proba)"
   ]
  },
  {
   "cell_type": "code",
   "execution_count": 335,
   "id": "76c515ff",
   "metadata": {},
   "outputs": [
    {
     "data": {
      "image/png": "[encoded data removed]",
      "text/plain": [
       "<Figure size 640x480 with 2 Axes>"
      ]
     },
     "metadata": {},
     "output_type": "display_data"
    }
   ],
   "source": [
    "y_pred = (y_pred_proba > best_threshold).astype(int)\n",
    "sns.heatmap(confusion_matrix(y_test, y_pred), annot=True, fmt='d', cmap='Blues', xticklabels=['0', '1'], yticklabels=['0', '1'])\n",
    "plt.xlabel('Предсказанный класс')\n",
    "plt.ylabel('Реальный класс')\n",
    "plt.title('Матрица ошибок')\n",
    "plt.show()"
   ]
  },
  {
   "cell_type": "code",
   "execution_count": 336,
   "id": "ad689b52",
   "metadata": {},
   "outputs": [],
   "source": [
    "y_pred_proba1 = cat1.predict_proba(X_test_url)[:,1]\n",
    "y_pred_proba2 = cat2.predict_proba(X_test_title)[:,1]"
   ]
  },
  {
   "cell_type": "code",
   "execution_count": 337,
   "id": "ead84042",
   "metadata": {},
   "outputs": [],
   "source": [
    "y_mean = (y_pred_proba1 + y_pred_proba2)/2"
   ]
  },
  {
   "cell_type": "code",
   "execution_count": 338,
   "id": "c5cfb57e",
   "metadata": {
    "scrolled": true
   },
   "outputs": [
    {
     "name": "stdout",
     "output_type": "stream",
     "text": [
      "Best Threshold: 0.4469777907030219\n",
      "Best F1-Score: 0.9731523378582202\n"
     ]
    }
   ],
   "source": [
    "best_threshold = get_best_tresh(y_test,y_mean)"
   ]
  },
  {
   "cell_type": "code",
   "execution_count": 339,
   "id": "720c63da",
   "metadata": {},
   "outputs": [],
   "source": [
    "y_test_pred1  =cat1.predict_proba(np.vstack(test['vector_url'].values))[:,1]\n",
    "y_test_pred2  =cat2.predict_proba(np.vstack(test['vector_tittle'].values))[:,1]"
   ]
  },
  {
   "cell_type": "code",
   "execution_count": 340,
   "id": "c8c80305",
   "metadata": {},
   "outputs": [],
   "source": [
    "pd.DataFrame(((y_test_pred1 + y_test_pred2)/2 >= best_threshold).astype(int),index = test.index,columns=['label']).to_csv('pred.csv')"
   ]
  }
 ],
 "metadata": {
  "kernelspec": {
   "display_name": "Python 3 (ipykernel)",
   "language": "python",
   "name": "python3"
  },
  "language_info": {
   "codemirror_mode": {
    "name": "ipython",
    "version": 3
   },
   "file_extension": ".py",
   "mimetype": "text/x-python",
   "name": "python",
   "nbconvert_exporter": "python",
   "pygments_lexer": "ipython3",
   "version": "3.11.5"
  }
 },
 "nbformat": 4,
 "nbformat_minor": 5
}
